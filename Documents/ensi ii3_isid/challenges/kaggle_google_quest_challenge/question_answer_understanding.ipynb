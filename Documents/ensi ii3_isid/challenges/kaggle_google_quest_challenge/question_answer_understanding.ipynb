{
  "nbformat": 4,
  "nbformat_minor": 0,
  "metadata": {
    "kernelspec": {
      "display_name": "Python 3",
      "language": "python",
      "name": "python3"
    },
    "language_info": {
      "codemirror_mode": {
        "name": "ipython",
        "version": 3
      },
      "file_extension": ".py",
      "mimetype": "text/x-python",
      "name": "python",
      "nbconvert_exporter": "python",
      "pygments_lexer": "ipython3",
      "version": "3.7.4"
    },
    "colab": {
      "name": "question_answer_understanding.ipynb",
      "provenance": [],
      "collapsed_sections": [
        "aHs8aC1qd4E_",
        "OX4j8-DZd4FM",
        "YkUhOGsGd4Fz",
        "P9Yf_NAod4GF",
        "xyDXCWGFd4GO",
        "ljrG95lRd4GW",
        "V3bdpRb7d4Go",
        "LpnLcYE_d4Gp",
        "iskmb0LBd4HA",
        "mc7Ca_ptd4HQ",
        "IcgRJW3ed4HZ",
        "2ygdj5AxP499",
        "6oWkgl5pQzmo"
      ]
    }
  },
  "cells": [
    {
      "cell_type": "markdown",
      "metadata": {
        "id": "qZIPTDz7d4Dg",
        "colab_type": "text"
      },
      "source": [
        "# Imports"
      ]
    },
    {
      "cell_type": "code",
      "metadata": {
        "id": "w63cxdGTd6TL",
        "colab_type": "code",
        "outputId": "bbac9202-cc50-4370-fcad-eb47e07de615",
        "colab": {
          "base_uri": "https://localhost:8080/",
          "height": 118
        }
      },
      "source": [
        "from google.colab import drive\n",
        "\n",
        "drive.mount('/content/drive/')"
      ],
      "execution_count": 1,
      "outputs": [
        {
          "output_type": "stream",
          "text": [
            "Go to this URL in a browser: https://accounts.google.com/o/oauth2/auth?client_id=947318989803-6bn6qk8qdgf4n4g3pfee6491hc0brc4i.apps.googleusercontent.com&redirect_uri=urn%3aietf%3awg%3aoauth%3a2.0%3aoob&response_type=code&scope=email%20https%3a%2f%2fwww.googleapis.com%2fauth%2fdocs.test%20https%3a%2f%2fwww.googleapis.com%2fauth%2fdrive%20https%3a%2f%2fwww.googleapis.com%2fauth%2fdrive.photos.readonly%20https%3a%2f%2fwww.googleapis.com%2fauth%2fpeopleapi.readonly\n",
            "\n",
            "Enter your authorization code:\n",
            "··········\n",
            "Mounted at /content/drive/\n"
          ],
          "name": "stdout"
        }
      ]
    },
    {
      "cell_type": "code",
      "metadata": {
        "id": "z_3AXdsHeMnf",
        "colab_type": "code",
        "outputId": "def610c8-82d9-4527-c9ce-2501911a48b1",
        "colab": {
          "base_uri": "https://localhost:8080/",
          "height": 66
        }
      },
      "source": [
        "import nltk\n",
        "nltk.download('stopwords')"
      ],
      "execution_count": 3,
      "outputs": [
        {
          "output_type": "stream",
          "text": [
            "[nltk_data] Downloading package stopwords to /root/nltk_data...\n",
            "[nltk_data]   Unzipping corpora/stopwords.zip.\n"
          ],
          "name": "stdout"
        },
        {
          "output_type": "execute_result",
          "data": {
            "text/plain": [
              "True"
            ]
          },
          "metadata": {
            "tags": []
          },
          "execution_count": 3
        }
      ]
    },
    {
      "cell_type": "code",
      "metadata": {
        "id": "SVZ19466d4Dk",
        "colab_type": "code",
        "outputId": "fba83364-f9a4-4b60-9ca4-2582919eec1d",
        "colab": {
          "base_uri": "https://localhost:8080/",
          "height": 77
        }
      },
      "source": [
        "import pandas as pd\n",
        "\n",
        "#viz\n",
        "import seaborn as sns; sns.set()\n",
        "import matplotlib.pyplot as plt\n",
        "from itertools import product\n",
        "from wordcloud import WordCloud\n",
        "\n",
        "\n",
        "#\n",
        "#data preprocessing\n",
        "\n",
        "import re\n",
        "import nltk\n",
        "import string\n",
        "from nltk.corpus import stopwords\n",
        "from nltk.stem.wordnet import WordNetLemmatizer\n",
        "from nltk.stem import LancasterStemmer\n",
        "from sklearn.feature_extraction.text import CountVectorizer\n",
        "\n",
        "stop_words = set(stopwords.words(\"english\"))\n",
        "\n",
        "#\n",
        "from sklearn.model_selection import train_test_split\n",
        "\n",
        "#keras\n",
        "import keras\n",
        "from keras.preprocessing.text import one_hot,Tokenizer\n",
        "from keras.preprocessing.sequence import pad_sequences\n",
        "from keras.models import Sequential\n",
        "from keras.layers import Dense , Flatten ,Embedding,Input\n",
        "from keras.models import Model\n",
        "from keras.preprocessing.text import text_to_word_sequence\n",
        "from sklearn.metrics import mean_absolute_error\n"
      ],
      "execution_count": 4,
      "outputs": [
        {
          "output_type": "stream",
          "text": [
            "Using TensorFlow backend.\n"
          ],
          "name": "stderr"
        },
        {
          "output_type": "display_data",
          "data": {
            "text/html": [
              "<p style=\"color: red;\">\n",
              "The default version of TensorFlow in Colab will soon switch to TensorFlow 2.x.<br>\n",
              "We recommend you <a href=\"https://www.tensorflow.org/guide/migrate\" target=\"_blank\">upgrade</a> now \n",
              "or ensure your notebook will continue to use TensorFlow 1.x via the <code>%tensorflow_version 1.x</code> magic:\n",
              "<a href=\"https://colab.research.google.com/notebooks/tensorflow_version.ipynb\" target=\"_blank\">more info</a>.</p>\n"
            ],
            "text/plain": [
              "<IPython.core.display.HTML object>"
            ]
          },
          "metadata": {
            "tags": []
          }
        }
      ]
    },
    {
      "cell_type": "markdown",
      "metadata": {
        "id": "vfauF5v1d4Dr",
        "colab_type": "text"
      },
      "source": [
        "# Data Viz"
      ]
    },
    {
      "cell_type": "code",
      "metadata": {
        "id": "VQwN9Rivd4Dt",
        "colab_type": "code",
        "outputId": "2de071c9-1083-47eb-fcde-fbd1789761a3",
        "colab": {
          "base_uri": "https://localhost:8080/",
          "height": 617
        }
      },
      "source": [
        "train=pd.read_csv('drive/My Drive/train.csv')\n",
        "print(train.shape)\n",
        "train.head()"
      ],
      "execution_count": 5,
      "outputs": [
        {
          "output_type": "stream",
          "text": [
            "(6079, 41)\n"
          ],
          "name": "stdout"
        },
        {
          "output_type": "execute_result",
          "data": {
            "text/html": [
              "<div>\n",
              "<style scoped>\n",
              "    .dataframe tbody tr th:only-of-type {\n",
              "        vertical-align: middle;\n",
              "    }\n",
              "\n",
              "    .dataframe tbody tr th {\n",
              "        vertical-align: top;\n",
              "    }\n",
              "\n",
              "    .dataframe thead th {\n",
              "        text-align: right;\n",
              "    }\n",
              "</style>\n",
              "<table border=\"1\" class=\"dataframe\">\n",
              "  <thead>\n",
              "    <tr style=\"text-align: right;\">\n",
              "      <th></th>\n",
              "      <th>qa_id</th>\n",
              "      <th>question_title</th>\n",
              "      <th>question_body</th>\n",
              "      <th>question_user_name</th>\n",
              "      <th>question_user_page</th>\n",
              "      <th>answer</th>\n",
              "      <th>answer_user_name</th>\n",
              "      <th>answer_user_page</th>\n",
              "      <th>url</th>\n",
              "      <th>category</th>\n",
              "      <th>host</th>\n",
              "      <th>question_asker_intent_understanding</th>\n",
              "      <th>question_body_critical</th>\n",
              "      <th>question_conversational</th>\n",
              "      <th>question_expect_short_answer</th>\n",
              "      <th>question_fact_seeking</th>\n",
              "      <th>question_has_commonly_accepted_answer</th>\n",
              "      <th>question_interestingness_others</th>\n",
              "      <th>question_interestingness_self</th>\n",
              "      <th>question_multi_intent</th>\n",
              "      <th>question_not_really_a_question</th>\n",
              "      <th>question_opinion_seeking</th>\n",
              "      <th>question_type_choice</th>\n",
              "      <th>question_type_compare</th>\n",
              "      <th>question_type_consequence</th>\n",
              "      <th>question_type_definition</th>\n",
              "      <th>question_type_entity</th>\n",
              "      <th>question_type_instructions</th>\n",
              "      <th>question_type_procedure</th>\n",
              "      <th>question_type_reason_explanation</th>\n",
              "      <th>question_type_spelling</th>\n",
              "      <th>question_well_written</th>\n",
              "      <th>answer_helpful</th>\n",
              "      <th>answer_level_of_information</th>\n",
              "      <th>answer_plausible</th>\n",
              "      <th>answer_relevance</th>\n",
              "      <th>answer_satisfaction</th>\n",
              "      <th>answer_type_instructions</th>\n",
              "      <th>answer_type_procedure</th>\n",
              "      <th>answer_type_reason_explanation</th>\n",
              "      <th>answer_well_written</th>\n",
              "    </tr>\n",
              "  </thead>\n",
              "  <tbody>\n",
              "    <tr>\n",
              "      <th>0</th>\n",
              "      <td>0</td>\n",
              "      <td>What am I losing when using extension tubes in...</td>\n",
              "      <td>After playing around with macro photography on...</td>\n",
              "      <td>ysap</td>\n",
              "      <td>https://photo.stackexchange.com/users/1024</td>\n",
              "      <td>I just got extension tubes, so here's the skin...</td>\n",
              "      <td>rfusca</td>\n",
              "      <td>https://photo.stackexchange.com/users/1917</td>\n",
              "      <td>http://photo.stackexchange.com/questions/9169/...</td>\n",
              "      <td>LIFE_ARTS</td>\n",
              "      <td>photo.stackexchange.com</td>\n",
              "      <td>1.000000</td>\n",
              "      <td>0.333333</td>\n",
              "      <td>0.000000</td>\n",
              "      <td>0.0</td>\n",
              "      <td>0.0</td>\n",
              "      <td>0.0</td>\n",
              "      <td>1.000000</td>\n",
              "      <td>1.000000</td>\n",
              "      <td>0.000000</td>\n",
              "      <td>0.0</td>\n",
              "      <td>1.000000</td>\n",
              "      <td>0.000000</td>\n",
              "      <td>0.000000</td>\n",
              "      <td>0.0</td>\n",
              "      <td>0.000000</td>\n",
              "      <td>0.0</td>\n",
              "      <td>1.0</td>\n",
              "      <td>0.000000</td>\n",
              "      <td>0.000000</td>\n",
              "      <td>0.0</td>\n",
              "      <td>1.000000</td>\n",
              "      <td>1.000000</td>\n",
              "      <td>0.666667</td>\n",
              "      <td>1.000000</td>\n",
              "      <td>1.000000</td>\n",
              "      <td>0.800000</td>\n",
              "      <td>1.0</td>\n",
              "      <td>0.000000</td>\n",
              "      <td>0.000000</td>\n",
              "      <td>1.000000</td>\n",
              "    </tr>\n",
              "    <tr>\n",
              "      <th>1</th>\n",
              "      <td>1</td>\n",
              "      <td>What is the distinction between a city and a s...</td>\n",
              "      <td>I am trying to understand what kinds of places...</td>\n",
              "      <td>russellpierce</td>\n",
              "      <td>https://rpg.stackexchange.com/users/8774</td>\n",
              "      <td>It might be helpful to look into the definitio...</td>\n",
              "      <td>Erik Schmidt</td>\n",
              "      <td>https://rpg.stackexchange.com/users/1871</td>\n",
              "      <td>http://rpg.stackexchange.com/questions/47820/w...</td>\n",
              "      <td>CULTURE</td>\n",
              "      <td>rpg.stackexchange.com</td>\n",
              "      <td>1.000000</td>\n",
              "      <td>1.000000</td>\n",
              "      <td>0.000000</td>\n",
              "      <td>0.5</td>\n",
              "      <td>1.0</td>\n",
              "      <td>1.0</td>\n",
              "      <td>0.444444</td>\n",
              "      <td>0.444444</td>\n",
              "      <td>0.666667</td>\n",
              "      <td>0.0</td>\n",
              "      <td>0.000000</td>\n",
              "      <td>0.666667</td>\n",
              "      <td>0.666667</td>\n",
              "      <td>0.0</td>\n",
              "      <td>0.333333</td>\n",
              "      <td>0.0</td>\n",
              "      <td>0.0</td>\n",
              "      <td>0.000000</td>\n",
              "      <td>0.333333</td>\n",
              "      <td>0.0</td>\n",
              "      <td>0.888889</td>\n",
              "      <td>0.888889</td>\n",
              "      <td>0.555556</td>\n",
              "      <td>0.888889</td>\n",
              "      <td>0.888889</td>\n",
              "      <td>0.666667</td>\n",
              "      <td>0.0</td>\n",
              "      <td>0.000000</td>\n",
              "      <td>0.666667</td>\n",
              "      <td>0.888889</td>\n",
              "    </tr>\n",
              "    <tr>\n",
              "      <th>2</th>\n",
              "      <td>2</td>\n",
              "      <td>Maximum protusion length for through-hole comp...</td>\n",
              "      <td>I'm working on a PCB that has through-hole com...</td>\n",
              "      <td>Joe Baker</td>\n",
              "      <td>https://electronics.stackexchange.com/users/10157</td>\n",
              "      <td>Do you even need grooves?  We make several pro...</td>\n",
              "      <td>Dwayne Reid</td>\n",
              "      <td>https://electronics.stackexchange.com/users/64754</td>\n",
              "      <td>http://electronics.stackexchange.com/questions...</td>\n",
              "      <td>SCIENCE</td>\n",
              "      <td>electronics.stackexchange.com</td>\n",
              "      <td>0.888889</td>\n",
              "      <td>0.666667</td>\n",
              "      <td>0.000000</td>\n",
              "      <td>1.0</td>\n",
              "      <td>1.0</td>\n",
              "      <td>1.0</td>\n",
              "      <td>0.666667</td>\n",
              "      <td>0.444444</td>\n",
              "      <td>0.333333</td>\n",
              "      <td>0.0</td>\n",
              "      <td>0.333333</td>\n",
              "      <td>0.000000</td>\n",
              "      <td>0.000000</td>\n",
              "      <td>0.0</td>\n",
              "      <td>0.000000</td>\n",
              "      <td>0.0</td>\n",
              "      <td>1.0</td>\n",
              "      <td>0.333333</td>\n",
              "      <td>0.333333</td>\n",
              "      <td>0.0</td>\n",
              "      <td>0.777778</td>\n",
              "      <td>0.777778</td>\n",
              "      <td>0.555556</td>\n",
              "      <td>1.000000</td>\n",
              "      <td>1.000000</td>\n",
              "      <td>0.666667</td>\n",
              "      <td>0.0</td>\n",
              "      <td>0.333333</td>\n",
              "      <td>1.000000</td>\n",
              "      <td>0.888889</td>\n",
              "    </tr>\n",
              "    <tr>\n",
              "      <th>3</th>\n",
              "      <td>3</td>\n",
              "      <td>Can an affidavit be used in Beit Din?</td>\n",
              "      <td>An affidavit, from what i understand, is basic...</td>\n",
              "      <td>Scimonster</td>\n",
              "      <td>https://judaism.stackexchange.com/users/5151</td>\n",
              "      <td>Sending an \"affidavit\" it is a dispute between...</td>\n",
              "      <td>Y     e     z</td>\n",
              "      <td>https://judaism.stackexchange.com/users/4794</td>\n",
              "      <td>http://judaism.stackexchange.com/questions/551...</td>\n",
              "      <td>CULTURE</td>\n",
              "      <td>judaism.stackexchange.com</td>\n",
              "      <td>0.888889</td>\n",
              "      <td>0.666667</td>\n",
              "      <td>0.666667</td>\n",
              "      <td>1.0</td>\n",
              "      <td>1.0</td>\n",
              "      <td>1.0</td>\n",
              "      <td>0.444444</td>\n",
              "      <td>0.444444</td>\n",
              "      <td>0.000000</td>\n",
              "      <td>0.0</td>\n",
              "      <td>0.000000</td>\n",
              "      <td>1.000000</td>\n",
              "      <td>0.000000</td>\n",
              "      <td>0.0</td>\n",
              "      <td>0.000000</td>\n",
              "      <td>0.0</td>\n",
              "      <td>0.0</td>\n",
              "      <td>0.000000</td>\n",
              "      <td>0.000000</td>\n",
              "      <td>0.0</td>\n",
              "      <td>0.888889</td>\n",
              "      <td>0.833333</td>\n",
              "      <td>0.333333</td>\n",
              "      <td>0.833333</td>\n",
              "      <td>1.000000</td>\n",
              "      <td>0.800000</td>\n",
              "      <td>0.0</td>\n",
              "      <td>0.000000</td>\n",
              "      <td>1.000000</td>\n",
              "      <td>1.000000</td>\n",
              "    </tr>\n",
              "    <tr>\n",
              "      <th>4</th>\n",
              "      <td>5</td>\n",
              "      <td>How do you make a binary image in Photoshop?</td>\n",
              "      <td>I am trying to make a binary image. I want mor...</td>\n",
              "      <td>leigero</td>\n",
              "      <td>https://graphicdesign.stackexchange.com/users/...</td>\n",
              "      <td>Check out Image Trace in Adobe Illustrator. \\n...</td>\n",
              "      <td>q2ra</td>\n",
              "      <td>https://graphicdesign.stackexchange.com/users/...</td>\n",
              "      <td>http://graphicdesign.stackexchange.com/questio...</td>\n",
              "      <td>LIFE_ARTS</td>\n",
              "      <td>graphicdesign.stackexchange.com</td>\n",
              "      <td>1.000000</td>\n",
              "      <td>0.666667</td>\n",
              "      <td>0.000000</td>\n",
              "      <td>1.0</td>\n",
              "      <td>1.0</td>\n",
              "      <td>1.0</td>\n",
              "      <td>0.666667</td>\n",
              "      <td>0.666667</td>\n",
              "      <td>0.000000</td>\n",
              "      <td>0.0</td>\n",
              "      <td>0.000000</td>\n",
              "      <td>0.000000</td>\n",
              "      <td>0.000000</td>\n",
              "      <td>0.0</td>\n",
              "      <td>0.000000</td>\n",
              "      <td>0.0</td>\n",
              "      <td>1.0</td>\n",
              "      <td>0.000000</td>\n",
              "      <td>1.000000</td>\n",
              "      <td>0.0</td>\n",
              "      <td>1.000000</td>\n",
              "      <td>1.000000</td>\n",
              "      <td>0.666667</td>\n",
              "      <td>1.000000</td>\n",
              "      <td>1.000000</td>\n",
              "      <td>0.800000</td>\n",
              "      <td>1.0</td>\n",
              "      <td>0.000000</td>\n",
              "      <td>1.000000</td>\n",
              "      <td>1.000000</td>\n",
              "    </tr>\n",
              "  </tbody>\n",
              "</table>\n",
              "</div>"
            ],
            "text/plain": [
              "   qa_id  ... answer_well_written\n",
              "0      0  ...            1.000000\n",
              "1      1  ...            0.888889\n",
              "2      2  ...            0.888889\n",
              "3      3  ...            1.000000\n",
              "4      5  ...            1.000000\n",
              "\n",
              "[5 rows x 41 columns]"
            ]
          },
          "metadata": {
            "tags": []
          },
          "execution_count": 5
        }
      ]
    },
    {
      "cell_type": "code",
      "metadata": {
        "id": "R9aJu_uod4Dx",
        "colab_type": "code",
        "colab": {}
      },
      "source": [
        "#add new column length of qst & answer\n",
        "train['length_qst_answer']=[len(ch) for ch in train.question_body + train.question_title +  train.answer]"
      ],
      "execution_count": 0,
      "outputs": []
    },
    {
      "cell_type": "code",
      "metadata": {
        "id": "AwcPAezGd4D4",
        "colab_type": "code",
        "outputId": "44b7b3b8-f8d1-4704-fab2-9bf9fe041738",
        "colab": {}
      },
      "source": [
        "train.columns"
      ],
      "execution_count": 0,
      "outputs": [
        {
          "output_type": "execute_result",
          "data": {
            "text/plain": [
              "Index(['qa_id', 'question_title', 'question_body', 'question_user_name',\n",
              "       'question_user_page', 'answer', 'answer_user_name', 'answer_user_page',\n",
              "       'url', 'category', 'host', 'question_asker_intent_understanding',\n",
              "       'question_body_critical', 'question_conversational',\n",
              "       'question_expect_short_answer', 'question_fact_seeking',\n",
              "       'question_has_commonly_accepted_answer',\n",
              "       'question_interestingness_others', 'question_interestingness_self',\n",
              "       'question_multi_intent', 'question_not_really_a_question',\n",
              "       'question_opinion_seeking', 'question_type_choice',\n",
              "       'question_type_compare', 'question_type_consequence',\n",
              "       'question_type_definition', 'question_type_entity',\n",
              "       'question_type_instructions', 'question_type_procedure',\n",
              "       'question_type_reason_explanation', 'question_type_spelling',\n",
              "       'question_well_written', 'answer_helpful',\n",
              "       'answer_level_of_information', 'answer_plausible', 'answer_relevance',\n",
              "       'answer_satisfaction', 'answer_type_instructions',\n",
              "       'answer_type_procedure', 'answer_type_reason_explanation',\n",
              "       'answer_well_written', 'length_qst_answer'],\n",
              "      dtype='object')"
            ]
          },
          "metadata": {
            "tags": []
          },
          "execution_count": 5
        }
      ]
    },
    {
      "cell_type": "code",
      "metadata": {
        "id": "nUo-NVfkd4D8",
        "colab_type": "code",
        "colab": {}
      },
      "source": [
        "labels=['question_asker_intent_understanding',\n",
        "       'question_body_critical', 'question_conversational',\n",
        "       'question_expect_short_answer', 'question_fact_seeking',\n",
        "       'question_has_commonly_accepted_answer',\n",
        "       'question_interestingness_others', 'question_interestingness_self',\n",
        "       'question_multi_intent', 'question_not_really_a_question',\n",
        "       'question_opinion_seeking', 'question_type_choice',\n",
        "       'question_type_compare', 'question_type_consequence',\n",
        "       'question_type_definition', 'question_type_entity',\n",
        "       'question_type_instructions', 'question_type_procedure',\n",
        "       'question_type_reason_explanation', 'question_type_spelling',\n",
        "       'question_well_written', 'answer_helpful',\n",
        "       'answer_level_of_information', 'answer_plausible', 'answer_relevance',\n",
        "       'answer_satisfaction', 'answer_type_instructions',\n",
        "       'answer_type_procedure', 'answer_type_reason_explanation',\n",
        "       'answer_well_written']"
      ],
      "execution_count": 0,
      "outputs": []
    },
    {
      "cell_type": "code",
      "metadata": {
        "id": "XjzZpFwHd4EA",
        "colab_type": "code",
        "outputId": "0d35eb76-e960-4849-bd38-b3ed2ecee793",
        "colab": {}
      },
      "source": [
        "len(labels)"
      ],
      "execution_count": 0,
      "outputs": [
        {
          "output_type": "execute_result",
          "data": {
            "text/plain": [
              "30"
            ]
          },
          "metadata": {
            "tags": []
          },
          "execution_count": 7
        }
      ]
    },
    {
      "cell_type": "code",
      "metadata": {
        "id": "Kc1mJCX5d4EE",
        "colab_type": "code",
        "outputId": "165326df-6b48-4fd2-e06e-06a61b471c33",
        "colab": {}
      },
      "source": [
        "for tag in labels:\n",
        "    print('--------------------------- value counts of '+tag+'-----------------------------')\n",
        "    print(train[tag].value_counts())"
      ],
      "execution_count": 0,
      "outputs": [
        {
          "output_type": "stream",
          "text": [
            "--------------------------- value counts of question_asker_intent_understanding-----------------------------\n",
            "1.000000    2833\n",
            "0.888889    1579\n",
            "0.777778     883\n",
            "0.666667     503\n",
            "0.833333     108\n",
            "0.333333      68\n",
            "0.555556      60\n",
            "0.500000      33\n",
            "0.444444      12\n",
            "Name: question_asker_intent_understanding, dtype: int64\n",
            "--------------------------- value counts of question_body_critical-----------------------------\n",
            "0.333333    1506\n",
            "0.555556     932\n",
            "0.444444     893\n",
            "0.666667     845\n",
            "0.777778     701\n",
            "1.000000     583\n",
            "0.888889     470\n",
            "0.500000      94\n",
            "0.833333      55\n",
            "Name: question_body_critical, dtype: int64\n",
            "--------------------------- value counts of question_conversational-----------------------------\n",
            "0.000000    5409\n",
            "0.333333     384\n",
            "0.666667     152\n",
            "1.000000     104\n",
            "0.500000      30\n",
            "Name: question_conversational, dtype: int64\n",
            "--------------------------- value counts of question_expect_short_answer-----------------------------\n",
            "1.000000    2936\n",
            "0.666667    1373\n",
            "0.000000     806\n",
            "0.333333     522\n",
            "0.500000     442\n",
            "Name: question_expect_short_answer, dtype: int64\n",
            "--------------------------- value counts of question_fact_seeking-----------------------------\n",
            "1.000000    3480\n",
            "0.666667    1326\n",
            "0.333333     877\n",
            "0.000000     315\n",
            "0.500000      81\n",
            "Name: question_fact_seeking, dtype: int64\n",
            "--------------------------- value counts of question_has_commonly_accepted_answer-----------------------------\n",
            "1.000000    4071\n",
            "0.666667     794\n",
            "0.000000     657\n",
            "0.333333     324\n",
            "0.500000     233\n",
            "Name: question_has_commonly_accepted_answer, dtype: int64\n",
            "--------------------------- value counts of question_interestingness_others-----------------------------\n",
            "0.666667    1831\n",
            "0.555556    1699\n",
            "0.444444    1258\n",
            "0.777778     471\n",
            "0.333333     324\n",
            "0.500000     196\n",
            "0.888889     155\n",
            "1.000000     100\n",
            "0.833333      45\n",
            "Name: question_interestingness_others, dtype: int64\n",
            "--------------------------- value counts of question_interestingness_self-----------------------------\n",
            "0.333333    2124\n",
            "0.444444    1425\n",
            "0.555556     827\n",
            "0.666667     643\n",
            "0.777778     390\n",
            "1.000000     242\n",
            "0.888889     209\n",
            "0.500000     178\n",
            "0.833333      41\n",
            "Name: question_interestingness_self, dtype: int64\n",
            "--------------------------- value counts of question_multi_intent-----------------------------\n",
            "0.000000    3617\n",
            "0.333333    1094\n",
            "0.666667     697\n",
            "1.000000     573\n",
            "0.500000      98\n",
            "Name: question_multi_intent, dtype: int64\n",
            "--------------------------- value counts of question_not_really_a_question-----------------------------\n",
            "0.000000    6013\n",
            "0.333333      48\n",
            "0.500000      11\n",
            "0.666667       4\n",
            "1.000000       3\n",
            "Name: question_not_really_a_question, dtype: int64\n",
            "--------------------------- value counts of question_opinion_seeking-----------------------------\n",
            "0.000000    1964\n",
            "0.666667    1455\n",
            "0.333333    1399\n",
            "1.000000    1094\n",
            "0.500000     167\n",
            "Name: question_opinion_seeking, dtype: int64\n",
            "--------------------------- value counts of question_type_choice-----------------------------\n",
            "0.000000    3363\n",
            "0.333333    1064\n",
            "1.000000     875\n",
            "0.666667     683\n",
            "0.500000      94\n",
            "Name: question_type_choice, dtype: int64\n",
            "--------------------------- value counts of question_type_compare-----------------------------\n",
            "0.000000    5652\n",
            "0.333333     222\n",
            "0.666667     119\n",
            "1.000000      71\n",
            "0.500000      15\n",
            "Name: question_type_compare, dtype: int64\n",
            "--------------------------- value counts of question_type_consequence-----------------------------\n",
            "0.000000    5948\n",
            "0.333333      86\n",
            "0.666667      26\n",
            "1.000000      11\n",
            "0.500000       8\n",
            "Name: question_type_consequence, dtype: int64\n",
            "--------------------------- value counts of question_type_definition-----------------------------\n",
            "0.000000    5735\n",
            "0.333333     173\n",
            "0.666667     110\n",
            "1.000000      51\n",
            "0.500000      10\n",
            "Name: question_type_definition, dtype: int64\n",
            "--------------------------- value counts of question_type_entity-----------------------------\n",
            "0.000000    5348\n",
            "0.333333     391\n",
            "0.666667     172\n",
            "1.000000     135\n",
            "0.500000      33\n",
            "Name: question_type_entity, dtype: int64\n",
            "--------------------------- value counts of question_type_instructions-----------------------------\n",
            "0.000000    2171\n",
            "1.000000    1985\n",
            "0.666667    1122\n",
            "0.333333     652\n",
            "0.500000     149\n",
            "Name: question_type_instructions, dtype: int64\n",
            "--------------------------- value counts of question_type_procedure-----------------------------\n",
            "0.000000    3958\n",
            "0.333333    1313\n",
            "0.666667     533\n",
            "1.000000     158\n",
            "0.500000     117\n",
            "Name: question_type_procedure, dtype: int64\n",
            "--------------------------- value counts of question_type_reason_explanation-----------------------------\n",
            "0.000000    2456\n",
            "0.333333    1316\n",
            "1.000000    1171\n",
            "0.666667    1027\n",
            "0.500000     109\n",
            "Name: question_type_reason_explanation, dtype: int64\n",
            "--------------------------- value counts of question_type_spelling-----------------------------\n",
            "0.000000    6068\n",
            "0.333333       7\n",
            "0.666667       4\n",
            "Name: question_type_spelling, dtype: int64\n",
            "--------------------------- value counts of question_well_written-----------------------------\n",
            "1.000000    1619\n",
            "0.888889    1337\n",
            "0.777778    1111\n",
            "0.666667     839\n",
            "0.555556     539\n",
            "0.444444     307\n",
            "0.833333     163\n",
            "0.333333     131\n",
            "0.500000      33\n",
            "Name: question_well_written, dtype: int64\n",
            "--------------------------- value counts of answer_helpful-----------------------------\n",
            "1.000000    3701\n",
            "0.888889    1223\n",
            "0.666667     431\n",
            "0.777778     427\n",
            "0.833333     219\n",
            "0.555556      26\n",
            "0.333333      25\n",
            "0.444444      14\n",
            "0.500000      13\n",
            "Name: answer_helpful, dtype: int64\n",
            "--------------------------- value counts of answer_level_of_information-----------------------------\n",
            "0.666667    4114\n",
            "0.555556     566\n",
            "0.777778     482\n",
            "0.444444     210\n",
            "0.333333     208\n",
            "0.500000     161\n",
            "0.888889     144\n",
            "0.833333      99\n",
            "1.000000      95\n",
            "Name: answer_level_of_information, dtype: int64\n",
            "--------------------------- value counts of answer_plausible-----------------------------\n",
            "1.000000    4710\n",
            "0.888889     740\n",
            "0.666667     215\n",
            "0.833333     199\n",
            "0.777778     191\n",
            "0.333333      10\n",
            "0.555556       8\n",
            "0.500000       4\n",
            "0.444444       2\n",
            "Name: answer_plausible, dtype: int64\n",
            "--------------------------- value counts of answer_relevance-----------------------------\n",
            "1.000000    4913\n",
            "0.888889     713\n",
            "0.777778     184\n",
            "0.833333     138\n",
            "0.666667     111\n",
            "0.555556       7\n",
            "0.333333       5\n",
            "0.500000       5\n",
            "0.444444       3\n",
            "Name: answer_relevance, dtype: int64\n",
            "--------------------------- value counts of answer_satisfaction-----------------------------\n",
            "1.000000    1262\n",
            "0.800000    1205\n",
            "0.933333    1183\n",
            "0.866667     925\n",
            "0.900000     411\n",
            "0.733333     320\n",
            "0.600000     266\n",
            "0.666667     192\n",
            "0.700000     118\n",
            "0.533333      70\n",
            "0.400000      41\n",
            "0.500000      30\n",
            "0.466667      29\n",
            "0.200000      13\n",
            "0.300000       5\n",
            "0.266667       5\n",
            "0.333333       4\n",
            "Name: answer_satisfaction, dtype: int64\n",
            "--------------------------- value counts of answer_type_instructions-----------------------------\n",
            "0.000000    2244\n",
            "1.000000    1917\n",
            "0.666667    1007\n",
            "0.333333     772\n",
            "0.500000     139\n",
            "Name: answer_type_instructions, dtype: int64\n",
            "--------------------------- value counts of answer_type_procedure-----------------------------\n",
            "0.000000    4281\n",
            "0.333333    1252\n",
            "0.666667     323\n",
            "0.500000     123\n",
            "1.000000     100\n",
            "Name: answer_type_procedure, dtype: int64\n",
            "--------------------------- value counts of answer_type_reason_explanation-----------------------------\n",
            "1.000000    1899\n",
            "0.000000    1892\n",
            "0.666667    1107\n",
            "0.333333    1038\n",
            "0.500000     143\n",
            "Name: answer_type_reason_explanation, dtype: int64\n",
            "--------------------------- value counts of answer_well_written-----------------------------\n",
            "1.000000    2634\n",
            "0.888889    2175\n",
            "0.777778     727\n",
            "0.666667     274\n",
            "0.833333     211\n",
            "0.555556      38\n",
            "0.444444       8\n",
            "0.500000       8\n",
            "0.333333       4\n",
            "Name: answer_well_written, dtype: int64\n"
          ],
          "name": "stdout"
        }
      ]
    },
    {
      "cell_type": "code",
      "metadata": {
        "id": "jOq3Pn7_d4EI",
        "colab_type": "code",
        "outputId": "6ea88b92-8b1c-4949-cdc3-8c3f116a419b",
        "colab": {}
      },
      "source": [
        "train[labels].describe()"
      ],
      "execution_count": 0,
      "outputs": [
        {
          "output_type": "execute_result",
          "data": {
            "text/html": [
              "<div>\n",
              "<style scoped>\n",
              "    .dataframe tbody tr th:only-of-type {\n",
              "        vertical-align: middle;\n",
              "    }\n",
              "\n",
              "    .dataframe tbody tr th {\n",
              "        vertical-align: top;\n",
              "    }\n",
              "\n",
              "    .dataframe thead th {\n",
              "        text-align: right;\n",
              "    }\n",
              "</style>\n",
              "<table border=\"1\" class=\"dataframe\">\n",
              "  <thead>\n",
              "    <tr style=\"text-align: right;\">\n",
              "      <th></th>\n",
              "      <th>question_asker_intent_understanding</th>\n",
              "      <th>question_body_critical</th>\n",
              "      <th>question_conversational</th>\n",
              "      <th>question_expect_short_answer</th>\n",
              "      <th>question_fact_seeking</th>\n",
              "      <th>question_has_commonly_accepted_answer</th>\n",
              "      <th>question_interestingness_others</th>\n",
              "      <th>question_interestingness_self</th>\n",
              "      <th>question_multi_intent</th>\n",
              "      <th>question_not_really_a_question</th>\n",
              "      <th>...</th>\n",
              "      <th>question_well_written</th>\n",
              "      <th>answer_helpful</th>\n",
              "      <th>answer_level_of_information</th>\n",
              "      <th>answer_plausible</th>\n",
              "      <th>answer_relevance</th>\n",
              "      <th>answer_satisfaction</th>\n",
              "      <th>answer_type_instructions</th>\n",
              "      <th>answer_type_procedure</th>\n",
              "      <th>answer_type_reason_explanation</th>\n",
              "      <th>answer_well_written</th>\n",
              "    </tr>\n",
              "  </thead>\n",
              "  <tbody>\n",
              "    <tr>\n",
              "      <th>count</th>\n",
              "      <td>6079.000000</td>\n",
              "      <td>6079.000000</td>\n",
              "      <td>6079.000000</td>\n",
              "      <td>6079.000000</td>\n",
              "      <td>6079.000000</td>\n",
              "      <td>6079.000000</td>\n",
              "      <td>6079.000000</td>\n",
              "      <td>6079.000000</td>\n",
              "      <td>6079.000000</td>\n",
              "      <td>6079.000000</td>\n",
              "      <td>...</td>\n",
              "      <td>6079.000000</td>\n",
              "      <td>6079.000000</td>\n",
              "      <td>6079.000000</td>\n",
              "      <td>6079.000000</td>\n",
              "      <td>6079.000000</td>\n",
              "      <td>6079.000000</td>\n",
              "      <td>6079.000000</td>\n",
              "      <td>6079.000000</td>\n",
              "      <td>6079.000000</td>\n",
              "      <td>6079.000000</td>\n",
              "    </tr>\n",
              "    <tr>\n",
              "      <th>mean</th>\n",
              "      <td>0.892663</td>\n",
              "      <td>0.595301</td>\n",
              "      <td>0.057301</td>\n",
              "      <td>0.698525</td>\n",
              "      <td>0.772633</td>\n",
              "      <td>0.793689</td>\n",
              "      <td>0.587478</td>\n",
              "      <td>0.507275</td>\n",
              "      <td>0.238745</td>\n",
              "      <td>0.004469</td>\n",
              "      <td>...</td>\n",
              "      <td>0.799931</td>\n",
              "      <td>0.925408</td>\n",
              "      <td>0.654823</td>\n",
              "      <td>0.960054</td>\n",
              "      <td>0.968626</td>\n",
              "      <td>0.854680</td>\n",
              "      <td>0.479547</td>\n",
              "      <td>0.130641</td>\n",
              "      <td>0.502468</td>\n",
              "      <td>0.908254</td>\n",
              "    </tr>\n",
              "    <tr>\n",
              "      <th>std</th>\n",
              "      <td>0.132047</td>\n",
              "      <td>0.219470</td>\n",
              "      <td>0.182196</td>\n",
              "      <td>0.350938</td>\n",
              "      <td>0.303023</td>\n",
              "      <td>0.336622</td>\n",
              "      <td>0.135900</td>\n",
              "      <td>0.185987</td>\n",
              "      <td>0.335057</td>\n",
              "      <td>0.045782</td>\n",
              "      <td>...</td>\n",
              "      <td>0.178420</td>\n",
              "      <td>0.114836</td>\n",
              "      <td>0.107666</td>\n",
              "      <td>0.086926</td>\n",
              "      <td>0.074631</td>\n",
              "      <td>0.130743</td>\n",
              "      <td>0.422921</td>\n",
              "      <td>0.225718</td>\n",
              "      <td>0.407097</td>\n",
              "      <td>0.100708</td>\n",
              "    </tr>\n",
              "    <tr>\n",
              "      <th>min</th>\n",
              "      <td>0.333333</td>\n",
              "      <td>0.333333</td>\n",
              "      <td>0.000000</td>\n",
              "      <td>0.000000</td>\n",
              "      <td>0.000000</td>\n",
              "      <td>0.000000</td>\n",
              "      <td>0.333333</td>\n",
              "      <td>0.333333</td>\n",
              "      <td>0.000000</td>\n",
              "      <td>0.000000</td>\n",
              "      <td>...</td>\n",
              "      <td>0.333333</td>\n",
              "      <td>0.333333</td>\n",
              "      <td>0.333333</td>\n",
              "      <td>0.333333</td>\n",
              "      <td>0.333333</td>\n",
              "      <td>0.200000</td>\n",
              "      <td>0.000000</td>\n",
              "      <td>0.000000</td>\n",
              "      <td>0.000000</td>\n",
              "      <td>0.333333</td>\n",
              "    </tr>\n",
              "    <tr>\n",
              "      <th>25%</th>\n",
              "      <td>0.777778</td>\n",
              "      <td>0.444444</td>\n",
              "      <td>0.000000</td>\n",
              "      <td>0.500000</td>\n",
              "      <td>0.666667</td>\n",
              "      <td>0.666667</td>\n",
              "      <td>0.444444</td>\n",
              "      <td>0.333333</td>\n",
              "      <td>0.000000</td>\n",
              "      <td>0.000000</td>\n",
              "      <td>...</td>\n",
              "      <td>0.666667</td>\n",
              "      <td>0.888889</td>\n",
              "      <td>0.666667</td>\n",
              "      <td>1.000000</td>\n",
              "      <td>1.000000</td>\n",
              "      <td>0.800000</td>\n",
              "      <td>0.000000</td>\n",
              "      <td>0.000000</td>\n",
              "      <td>0.000000</td>\n",
              "      <td>0.888889</td>\n",
              "    </tr>\n",
              "    <tr>\n",
              "      <th>50%</th>\n",
              "      <td>0.888889</td>\n",
              "      <td>0.555556</td>\n",
              "      <td>0.000000</td>\n",
              "      <td>0.666667</td>\n",
              "      <td>1.000000</td>\n",
              "      <td>1.000000</td>\n",
              "      <td>0.555556</td>\n",
              "      <td>0.444444</td>\n",
              "      <td>0.000000</td>\n",
              "      <td>0.000000</td>\n",
              "      <td>...</td>\n",
              "      <td>0.833333</td>\n",
              "      <td>1.000000</td>\n",
              "      <td>0.666667</td>\n",
              "      <td>1.000000</td>\n",
              "      <td>1.000000</td>\n",
              "      <td>0.866667</td>\n",
              "      <td>0.500000</td>\n",
              "      <td>0.000000</td>\n",
              "      <td>0.500000</td>\n",
              "      <td>0.888889</td>\n",
              "    </tr>\n",
              "    <tr>\n",
              "      <th>75%</th>\n",
              "      <td>1.000000</td>\n",
              "      <td>0.777778</td>\n",
              "      <td>0.000000</td>\n",
              "      <td>1.000000</td>\n",
              "      <td>1.000000</td>\n",
              "      <td>1.000000</td>\n",
              "      <td>0.666667</td>\n",
              "      <td>0.666667</td>\n",
              "      <td>0.333333</td>\n",
              "      <td>0.000000</td>\n",
              "      <td>...</td>\n",
              "      <td>1.000000</td>\n",
              "      <td>1.000000</td>\n",
              "      <td>0.666667</td>\n",
              "      <td>1.000000</td>\n",
              "      <td>1.000000</td>\n",
              "      <td>0.933333</td>\n",
              "      <td>1.000000</td>\n",
              "      <td>0.333333</td>\n",
              "      <td>1.000000</td>\n",
              "      <td>1.000000</td>\n",
              "    </tr>\n",
              "    <tr>\n",
              "      <th>max</th>\n",
              "      <td>1.000000</td>\n",
              "      <td>1.000000</td>\n",
              "      <td>1.000000</td>\n",
              "      <td>1.000000</td>\n",
              "      <td>1.000000</td>\n",
              "      <td>1.000000</td>\n",
              "      <td>1.000000</td>\n",
              "      <td>1.000000</td>\n",
              "      <td>1.000000</td>\n",
              "      <td>1.000000</td>\n",
              "      <td>...</td>\n",
              "      <td>1.000000</td>\n",
              "      <td>1.000000</td>\n",
              "      <td>1.000000</td>\n",
              "      <td>1.000000</td>\n",
              "      <td>1.000000</td>\n",
              "      <td>1.000000</td>\n",
              "      <td>1.000000</td>\n",
              "      <td>1.000000</td>\n",
              "      <td>1.000000</td>\n",
              "      <td>1.000000</td>\n",
              "    </tr>\n",
              "  </tbody>\n",
              "</table>\n",
              "<p>8 rows × 30 columns</p>\n",
              "</div>"
            ],
            "text/plain": [
              "       question_asker_intent_understanding  question_body_critical  \\\n",
              "count                          6079.000000             6079.000000   \n",
              "mean                              0.892663                0.595301   \n",
              "std                               0.132047                0.219470   \n",
              "min                               0.333333                0.333333   \n",
              "25%                               0.777778                0.444444   \n",
              "50%                               0.888889                0.555556   \n",
              "75%                               1.000000                0.777778   \n",
              "max                               1.000000                1.000000   \n",
              "\n",
              "       question_conversational  question_expect_short_answer  \\\n",
              "count              6079.000000                   6079.000000   \n",
              "mean                  0.057301                      0.698525   \n",
              "std                   0.182196                      0.350938   \n",
              "min                   0.000000                      0.000000   \n",
              "25%                   0.000000                      0.500000   \n",
              "50%                   0.000000                      0.666667   \n",
              "75%                   0.000000                      1.000000   \n",
              "max                   1.000000                      1.000000   \n",
              "\n",
              "       question_fact_seeking  question_has_commonly_accepted_answer  \\\n",
              "count            6079.000000                            6079.000000   \n",
              "mean                0.772633                               0.793689   \n",
              "std                 0.303023                               0.336622   \n",
              "min                 0.000000                               0.000000   \n",
              "25%                 0.666667                               0.666667   \n",
              "50%                 1.000000                               1.000000   \n",
              "75%                 1.000000                               1.000000   \n",
              "max                 1.000000                               1.000000   \n",
              "\n",
              "       question_interestingness_others  question_interestingness_self  \\\n",
              "count                      6079.000000                    6079.000000   \n",
              "mean                          0.587478                       0.507275   \n",
              "std                           0.135900                       0.185987   \n",
              "min                           0.333333                       0.333333   \n",
              "25%                           0.444444                       0.333333   \n",
              "50%                           0.555556                       0.444444   \n",
              "75%                           0.666667                       0.666667   \n",
              "max                           1.000000                       1.000000   \n",
              "\n",
              "       question_multi_intent  question_not_really_a_question  ...  \\\n",
              "count            6079.000000                     6079.000000  ...   \n",
              "mean                0.238745                        0.004469  ...   \n",
              "std                 0.335057                        0.045782  ...   \n",
              "min                 0.000000                        0.000000  ...   \n",
              "25%                 0.000000                        0.000000  ...   \n",
              "50%                 0.000000                        0.000000  ...   \n",
              "75%                 0.333333                        0.000000  ...   \n",
              "max                 1.000000                        1.000000  ...   \n",
              "\n",
              "       question_well_written  answer_helpful  answer_level_of_information  \\\n",
              "count            6079.000000     6079.000000                  6079.000000   \n",
              "mean                0.799931        0.925408                     0.654823   \n",
              "std                 0.178420        0.114836                     0.107666   \n",
              "min                 0.333333        0.333333                     0.333333   \n",
              "25%                 0.666667        0.888889                     0.666667   \n",
              "50%                 0.833333        1.000000                     0.666667   \n",
              "75%                 1.000000        1.000000                     0.666667   \n",
              "max                 1.000000        1.000000                     1.000000   \n",
              "\n",
              "       answer_plausible  answer_relevance  answer_satisfaction  \\\n",
              "count       6079.000000       6079.000000          6079.000000   \n",
              "mean           0.960054          0.968626             0.854680   \n",
              "std            0.086926          0.074631             0.130743   \n",
              "min            0.333333          0.333333             0.200000   \n",
              "25%            1.000000          1.000000             0.800000   \n",
              "50%            1.000000          1.000000             0.866667   \n",
              "75%            1.000000          1.000000             0.933333   \n",
              "max            1.000000          1.000000             1.000000   \n",
              "\n",
              "       answer_type_instructions  answer_type_procedure  \\\n",
              "count               6079.000000            6079.000000   \n",
              "mean                   0.479547               0.130641   \n",
              "std                    0.422921               0.225718   \n",
              "min                    0.000000               0.000000   \n",
              "25%                    0.000000               0.000000   \n",
              "50%                    0.500000               0.000000   \n",
              "75%                    1.000000               0.333333   \n",
              "max                    1.000000               1.000000   \n",
              "\n",
              "       answer_type_reason_explanation  answer_well_written  \n",
              "count                     6079.000000          6079.000000  \n",
              "mean                         0.502468             0.908254  \n",
              "std                          0.407097             0.100708  \n",
              "min                          0.000000             0.333333  \n",
              "25%                          0.000000             0.888889  \n",
              "50%                          0.500000             0.888889  \n",
              "75%                          1.000000             1.000000  \n",
              "max                          1.000000             1.000000  \n",
              "\n",
              "[8 rows x 30 columns]"
            ]
          },
          "metadata": {
            "tags": []
          },
          "execution_count": 9
        }
      ]
    },
    {
      "cell_type": "code",
      "metadata": {
        "id": "1ukEdMROd4EM",
        "colab_type": "code",
        "outputId": "ebe92cb6-6888-4c47-d151-7d1800d96e8d",
        "colab": {}
      },
      "source": [
        "\n",
        "ax = sns.scatterplot(x=train.question_asker_intent_understanding, y=train.question_has_commonly_accepted_answer)"
      ],
      "execution_count": 0,
      "outputs": [
        {
          "output_type": "display_data",
          "data": {
            "image/png": "[encoded data removed]",
            "text/plain": [
              "<Figure size 432x288 with 1 Axes>"
            ]
          },
          "metadata": {
            "tags": [],
            "needs_background": "light"
          }
        }
      ]
    },
    {
      "cell_type": "code",
      "metadata": {
        "id": "O3VL1K_0d4ES",
        "colab_type": "code",
        "outputId": "60e2606b-87dc-44ab-e140-d72b49bd9963",
        "colab": {}
      },
      "source": [
        "df = pd.DataFrame()\n",
        "df['question_asker_intent_understanding']=train['question_asker_intent_understanding']\n",
        "df['question_has_commonly_accepted_answer']=train['question_has_commonly_accepted_answer']\n",
        "ax = df.plot.kde()"
      ],
      "execution_count": 0,
      "outputs": [
        {
          "output_type": "display_data",
          "data": {
            "image/png": "[encoded data removed]",
            "text/plain": [
              "<Figure size 432x288 with 1 Axes>"
            ]
          },
          "metadata": {
            "tags": [],
            "needs_background": "light"
          }
        }
      ]
    },
    {
      "cell_type": "code",
      "metadata": {
        "id": "GTV0fLITd4EX",
        "colab_type": "code",
        "outputId": "94c321b5-cd5e-472b-d470-260cb419081b",
        "colab": {}
      },
      "source": [
        "df = pd.DataFrame()\n",
        "df['question_asker_intent_understanding']=train['question_asker_intent_understanding']\n",
        "df['question_conversational']=train['question_conversational']\n",
        "ax = df.plot.kde()"
      ],
      "execution_count": 0,
      "outputs": [
        {
          "output_type": "display_data",
          "data": {
            "image/png": "[encoded data removed]",
            "text/plain": [
              "<Figure size 432x288 with 1 Axes>"
            ]
          },
          "metadata": {
            "tags": [],
            "needs_background": "light"
          }
        }
      ]
    },
    {
      "cell_type": "code",
      "metadata": {
        "id": "nTkgfUNvd4Ed",
        "colab_type": "code",
        "outputId": "7f334b71-cc36-4cb9-888b-5cdd8353a4b8",
        "colab": {}
      },
      "source": [
        "for i in labels[:3]:\n",
        "    train[i].hist(figsize=[14,6])\n"
      ],
      "execution_count": 0,
      "outputs": [
        {
          "output_type": "display_data",
          "data": {
            "image/png": "[encoded data removed]",
            "text/plain": [
              "<Figure size 1008x432 with 1 Axes>"
            ]
          },
          "metadata": {
            "tags": [],
            "needs_background": "light"
          }
        }
      ]
    },
    {
      "cell_type": "code",
      "metadata": {
        "id": "F-c1LBoId4Eh",
        "colab_type": "code",
        "outputId": "0a901f20-8fd8-4839-ef1c-611000cea74b",
        "colab": {}
      },
      "source": [
        "fig = plt.figure(figsize=(200,200))\n",
        "fig, ax = plt.subplots(6, 5)\n",
        "k=-1\n",
        "num=0\n",
        "couples=list(product([labels[num]],labels))\n",
        "for i in range(6):\n",
        "    for j in range(5):\n",
        "        k+=1\n",
        "        ax[i,j].plot(train[couples[k][0]],train[couples[k][1]],'bo')\n"
      ],
      "execution_count": 0,
      "outputs": [
        {
          "output_type": "display_data",
          "data": {
            "text/plain": [
              "<Figure size 14400x14400 with 0 Axes>"
            ]
          },
          "metadata": {
            "tags": []
          }
        },
        {
          "output_type": "display_data",
          "data": {
            "image/png": "[encoded data removed]",
            "text/plain": [
              "<Figure size 432x288 with 30 Axes>"
            ]
          },
          "metadata": {
            "tags": [],
            "needs_background": "light"
          }
        }
      ]
    },
    {
      "cell_type": "code",
      "metadata": {
        "id": "BuwgsV2qd4Em",
        "colab_type": "code",
        "outputId": "688d5dfb-f507-44fc-a2c0-11eccffea869",
        "colab": {}
      },
      "source": [
        "fig = plt.figure(figsize=(200,200))\n",
        "fig, ax = plt.subplots(6, 5)\n",
        "k=-1\n",
        "num=8\n",
        "couples=list(product([labels[num]],labels))\n",
        "for i in range(6):\n",
        "    for j in range(5):\n",
        "        k+=1\n",
        "        ax[i,j].plot(train[couples[k][0]],train[couples[k][1]],'bo')\n"
      ],
      "execution_count": 0,
      "outputs": [
        {
          "output_type": "display_data",
          "data": {
            "text/plain": [
              "<Figure size 14400x14400 with 0 Axes>"
            ]
          },
          "metadata": {
            "tags": []
          }
        },
        {
          "output_type": "display_data",
          "data": {
            "image/png": "[encoded data removed]",
            "text/plain": [
              "<Figure size 432x288 with 30 Axes>"
            ]
          },
          "metadata": {
            "tags": [],
            "needs_background": "light"
          }
        }
      ]
    },
    {
      "cell_type": "code",
      "metadata": {
        "id": "cM3UH8FUd4Er",
        "colab_type": "code",
        "outputId": "18da9ffe-b1f3-41ad-ce48-3c61f9f6fdfa",
        "colab": {}
      },
      "source": [
        "fig = plt.figure(figsize=(20,10))\n",
        "fig, ax = plt.subplots(6, 5)\n",
        "k=-1\n",
        "num=15\n",
        "couples=list(product([labels[num]],labels))\n",
        "for i in range(6):\n",
        "    for j in range(5):\n",
        "        k+=1\n",
        "        ax[i,j].plot(train[couples[k][0]],train[couples[k][1]],'bo')\n"
      ],
      "execution_count": 0,
      "outputs": [
        {
          "output_type": "display_data",
          "data": {
            "text/plain": [
              "<Figure size 1440x720 with 0 Axes>"
            ]
          },
          "metadata": {
            "tags": []
          }
        },
        {
          "output_type": "display_data",
          "data": {
            "image/png": "[encoded data removed]",
            "text/plain": [
              "<Figure size 432x288 with 30 Axes>"
            ]
          },
          "metadata": {
            "tags": [],
            "needs_background": "light"
          }
        }
      ]
    },
    {
      "cell_type": "code",
      "metadata": {
        "id": "VXqEbWpqd4Ez",
        "colab_type": "code",
        "outputId": "bc70a07e-236d-416e-b3de-652ecdc67504",
        "colab": {}
      },
      "source": [
        "plt.rcParams['figure.figsize'] = (20, 20)\n",
        "\n",
        "C=train[labels].corr()\n",
        "sns.heatmap(C)"
      ],
      "execution_count": 0,
      "outputs": [
        {
          "output_type": "execute_result",
          "data": {
            "text/plain": [
              "<matplotlib.axes._subplots.AxesSubplot at 0x7f1dfa42f6d0>"
            ]
          },
          "metadata": {
            "tags": []
          },
          "execution_count": 20
        },
        {
          "output_type": "display_data",
          "data": {
            "image/png": "[encoded data removed]",
            "text/plain": [
              "<Figure size 1440x1440 with 2 Axes>"
            ]
          },
          "metadata": {
            "tags": [],
            "needs_background": "light"
          }
        }
      ]
    },
    {
      "cell_type": "code",
      "metadata": {
        "id": "2U5ICWSsd4E4",
        "colab_type": "code",
        "outputId": "baeea3ab-a613-47ac-a105-bc3308df685f",
        "colab": {}
      },
      "source": [
        "sorted(C['answer_plausible'])"
      ],
      "execution_count": 0,
      "outputs": [
        {
          "output_type": "execute_result",
          "data": {
            "text/plain": [
              "[-0.12509308813292275,\n",
              " -0.05005000491891785,\n",
              " -0.044432457558766125,\n",
              " -0.04367762986912108,\n",
              " -0.03613774933416933,\n",
              " -0.03324865192616704,\n",
              " -0.03036860016680361,\n",
              " -0.028974219086232975,\n",
              " -0.018679491804982504,\n",
              " -0.014504236927401793,\n",
              " -0.002831857195951921,\n",
              " -0.0020777031179794797,\n",
              " 0.004311951901163068,\n",
              " 0.0060709363332785826,\n",
              " 0.008537486217383459,\n",
              " 0.010367535431744361,\n",
              " 0.02827950287777982,\n",
              " 0.029065267032300186,\n",
              " 0.04510341189484026,\n",
              " 0.048565895225539765,\n",
              " 0.058387156830394846,\n",
              " 0.07896567173783686,\n",
              " 0.1456126205103848,\n",
              " 0.173906109232512,\n",
              " 0.18113517256784262,\n",
              " 0.23461996417219727,\n",
              " 0.4021468649900827,\n",
              " 0.43229714956020865,\n",
              " 0.6946007741902106,\n",
              " 1.0]"
            ]
          },
          "metadata": {
            "tags": []
          },
          "execution_count": 23
        }
      ]
    },
    {
      "cell_type": "markdown",
      "metadata": {
        "id": "aHs8aC1qd4E_",
        "colab_type": "text"
      },
      "source": [
        "### \"answer_helpful\" are correlated \"answer_plausible\""
      ]
    },
    {
      "cell_type": "code",
      "metadata": {
        "id": "mzZREf7Bd4FC",
        "colab_type": "code",
        "outputId": "c2bd33a1-159e-401a-acd8-5a655e4e8c2e",
        "colab": {}
      },
      "source": [
        "sorted(C[labels[4]])"
      ],
      "execution_count": 0,
      "outputs": [
        {
          "output_type": "execute_result",
          "data": {
            "text/plain": [
              "[-0.6864956198240194,\n",
              " -0.4120589951193031,\n",
              " -0.1458796998253239,\n",
              " -0.12509308813292275,\n",
              " -0.11998865936052013,\n",
              " -0.11310822725972429,\n",
              " -0.09080025169503719,\n",
              " -0.07883617627189803,\n",
              " -0.07235392510657848,\n",
              " -0.057832382057532786,\n",
              " -0.05285990975285941,\n",
              " -0.0499163175738219,\n",
              " -0.037800803556831165,\n",
              " -0.0192784663294414,\n",
              " -0.010088841278114888,\n",
              " -0.006419326653544647,\n",
              " -0.0046692816121186075,\n",
              " 0.008593212399250693,\n",
              " 0.01715552533481424,\n",
              " 0.01834860344056184,\n",
              " 0.025861257267864004,\n",
              " 0.06652962284281512,\n",
              " 0.08793352024182854,\n",
              " 0.09467039092458698,\n",
              " 0.1039966400611673,\n",
              " 0.10522231378682786,\n",
              " 0.15464619130722274,\n",
              " 0.17954129987965065,\n",
              " 0.27690595428046055,\n",
              " 1.0]"
            ]
          },
          "metadata": {
            "tags": []
          },
          "execution_count": 24
        }
      ]
    },
    {
      "cell_type": "markdown",
      "metadata": {
        "id": "OX4j8-DZd4FM",
        "colab_type": "text"
      },
      "source": [
        "### are correlated question_fact_seeking , question_opinion_seeking"
      ]
    },
    {
      "cell_type": "code",
      "metadata": {
        "id": "QelsWz1Ad4FS",
        "colab_type": "code",
        "outputId": "41ca58f1-7cc3-462d-8d04-16a43212c52f",
        "colab": {}
      },
      "source": [
        "sorted(C[labels[6]])"
      ],
      "execution_count": 0,
      "outputs": [
        {
          "output_type": "execute_result",
          "data": {
            "text/plain": [
              "[-0.1832831912572617,\n",
              " -0.1803615626299065,\n",
              " -0.16301882853821845,\n",
              " -0.09048426975404793,\n",
              " -0.06532228313305029,\n",
              " -0.04685906061593586,\n",
              " -0.0382568883528908,\n",
              " -0.037800803556831165,\n",
              " -0.02745234630788138,\n",
              " -0.014504236927401793,\n",
              " -0.006037964665500481,\n",
              " -0.001221380667759696,\n",
              " 0.003753354339447684,\n",
              " 0.005888115509605443,\n",
              " 0.018805645002910806,\n",
              " 0.032855064317329014,\n",
              " 0.03895073840781801,\n",
              " 0.04198470737984021,\n",
              " 0.04534590736293421,\n",
              " 0.05047105480328495,\n",
              " 0.061899016515970795,\n",
              " 0.06276788399439148,\n",
              " 0.07009286529982087,\n",
              " 0.07533556228455479,\n",
              " 0.09731967295632925,\n",
              " 0.15794197530586193,\n",
              " 0.189953349595784,\n",
              " 0.2105052233283222,\n",
              " 0.5721516493484903,\n",
              " 1.0]"
            ]
          },
          "metadata": {
            "tags": []
          },
          "execution_count": 25
        }
      ]
    },
    {
      "cell_type": "code",
      "metadata": {
        "id": "Ww-oHVQ1d4Fi",
        "colab_type": "code",
        "colab": {}
      },
      "source": [
        "train['question_interestingness_self_updated']=train.question_interestingness_others-1"
      ],
      "execution_count": 0,
      "outputs": []
    },
    {
      "cell_type": "code",
      "metadata": {
        "id": "dO8CaOLvd4Fp",
        "colab_type": "code",
        "outputId": "b60fd56e-6674-428f-f816-38c324574677",
        "colab": {}
      },
      "source": [
        "df=train[['question_interestingness_self_updated','question_interestingness_others']]\n",
        "d=df.corr()\n",
        "d"
      ],
      "execution_count": 0,
      "outputs": [
        {
          "output_type": "execute_result",
          "data": {
            "text/html": [
              "<div>\n",
              "<style scoped>\n",
              "    .dataframe tbody tr th:only-of-type {\n",
              "        vertical-align: middle;\n",
              "    }\n",
              "\n",
              "    .dataframe tbody tr th {\n",
              "        vertical-align: top;\n",
              "    }\n",
              "\n",
              "    .dataframe thead th {\n",
              "        text-align: right;\n",
              "    }\n",
              "</style>\n",
              "<table border=\"1\" class=\"dataframe\">\n",
              "  <thead>\n",
              "    <tr style=\"text-align: right;\">\n",
              "      <th></th>\n",
              "      <th>question_interestingness_self_updated</th>\n",
              "      <th>question_interestingness_others</th>\n",
              "    </tr>\n",
              "  </thead>\n",
              "  <tbody>\n",
              "    <tr>\n",
              "      <th>question_interestingness_self_updated</th>\n",
              "      <td>1.0</td>\n",
              "      <td>1.0</td>\n",
              "    </tr>\n",
              "    <tr>\n",
              "      <th>question_interestingness_others</th>\n",
              "      <td>1.0</td>\n",
              "      <td>1.0</td>\n",
              "    </tr>\n",
              "  </tbody>\n",
              "</table>\n",
              "</div>"
            ],
            "text/plain": [
              "                                       question_interestingness_self_updated  \\\n",
              "question_interestingness_self_updated                                    1.0   \n",
              "question_interestingness_others                                          1.0   \n",
              "\n",
              "                                       question_interestingness_others  \n",
              "question_interestingness_self_updated                              1.0  \n",
              "question_interestingness_others                                    1.0  "
            ]
          },
          "metadata": {
            "tags": []
          },
          "execution_count": 27
        }
      ]
    },
    {
      "cell_type": "markdown",
      "metadata": {
        "id": "YkUhOGsGd4Fz",
        "colab_type": "text"
      },
      "source": [
        "### question_interestingness_self_updated & train.question_interestingness_others are correlated "
      ]
    },
    {
      "cell_type": "code",
      "metadata": {
        "id": "UM4n2cvcd4F0",
        "colab_type": "code",
        "colab": {}
      },
      "source": [
        "s=train.answer_plausible-train.answer_relevance"
      ],
      "execution_count": 0,
      "outputs": []
    },
    {
      "cell_type": "code",
      "metadata": {
        "id": "IIDyFPwBd4F3",
        "colab_type": "code",
        "outputId": "2f63c609-7379-4902-e156-784e5eac1c38",
        "colab": {}
      },
      "source": [
        "s.value_counts()"
      ],
      "execution_count": 0,
      "outputs": [
        {
          "output_type": "execute_result",
          "data": {
            "text/plain": [
              " 0.000000    4488\n",
              "-0.111111     451\n",
              " 0.111111     428\n",
              "-0.333333     131\n",
              "-0.166667     118\n",
              "-0.222222     102\n",
              " 0.222222      85\n",
              " 0.166667      61\n",
              " 0.111111      56\n",
              "-0.111111      42\n",
              " 0.333333      29\n",
              "-0.166667      21\n",
              " 0.166667      17\n",
              "-0.055556      14\n",
              "-0.055556      10\n",
              " 0.055556       6\n",
              "-0.444444       4\n",
              " 0.055556       3\n",
              "-0.111111       2\n",
              "-0.500000       2\n",
              "-0.222222       1\n",
              "-0.333333       1\n",
              " 0.666667       1\n",
              " 0.555556       1\n",
              "-0.444444       1\n",
              " 0.277778       1\n",
              " 0.333333       1\n",
              " 0.500000       1\n",
              "-0.666667       1\n",
              "dtype: int64"
            ]
          },
          "metadata": {
            "tags": []
          },
          "execution_count": 29
        }
      ]
    },
    {
      "cell_type": "code",
      "metadata": {
        "id": "dWAolCfod4F7",
        "colab_type": "code",
        "outputId": "f2a223fb-dd96-4901-d538-4c765f7706db",
        "colab": {}
      },
      "source": [
        "train.answer_relevance.value_counts()"
      ],
      "execution_count": 0,
      "outputs": [
        {
          "output_type": "execute_result",
          "data": {
            "text/plain": [
              "1.000000    4913\n",
              "0.888889     713\n",
              "0.777778     184\n",
              "0.833333     138\n",
              "0.666667     111\n",
              "0.555556       7\n",
              "0.333333       5\n",
              "0.500000       5\n",
              "0.444444       3\n",
              "Name: answer_relevance, dtype: int64"
            ]
          },
          "metadata": {
            "tags": []
          },
          "execution_count": 31
        }
      ]
    },
    {
      "cell_type": "code",
      "metadata": {
        "id": "w2x-5VACd4GC",
        "colab_type": "code",
        "outputId": "c62dce7f-a81d-4c85-8bb0-1968ed313b62",
        "colab": {}
      },
      "source": [
        "s=train.answer_plausible-train.answer_satisfaction\n",
        "(s.value_counts())"
      ],
      "execution_count": 0,
      "outputs": [
        {
          "output_type": "execute_result",
          "data": {
            "text/plain": [
              " 0.000000    1148\n",
              " 0.066667    1102\n",
              " 0.200000     861\n",
              " 0.133333     821\n",
              " 0.100000     284\n",
              "             ... \n",
              " 0.088889       1\n",
              " 0.533333       1\n",
              "-0.122222       1\n",
              " 0.555556       1\n",
              " 0.366667       1\n",
              "Length: 75, dtype: int64"
            ]
          },
          "metadata": {
            "tags": []
          },
          "execution_count": 179
        }
      ]
    },
    {
      "cell_type": "markdown",
      "metadata": {
        "id": "P9Yf_NAod4GF",
        "colab_type": "text"
      },
      "source": [
        "### answer_satisfaction & answer plausible & answer_relevance & answer_helpful & answer_level_of_info are correlated"
      ]
    },
    {
      "cell_type": "code",
      "metadata": {
        "id": "IwJvUmHQd4GG",
        "colab_type": "code",
        "outputId": "63fa7de2-ef9a-44b3-8aea-b5effc15ba6b",
        "colab": {}
      },
      "source": [
        "train.question_conversational.value_counts()"
      ],
      "execution_count": 0,
      "outputs": [
        {
          "output_type": "execute_result",
          "data": {
            "text/plain": [
              "0.000000    5409\n",
              "0.333333     384\n",
              "0.666667     152\n",
              "1.000000     104\n",
              "0.500000      30\n",
              "Name: question_conversational, dtype: int64"
            ]
          },
          "metadata": {
            "tags": []
          },
          "execution_count": 32
        }
      ]
    },
    {
      "cell_type": "code",
      "metadata": {
        "id": "mFgjmroed4GJ",
        "colab_type": "code",
        "outputId": "7747b308-f0dd-4831-e51d-5288bac90901",
        "colab": {}
      },
      "source": [
        "train.question_fact_seeking.value_counts()"
      ],
      "execution_count": 0,
      "outputs": [
        {
          "output_type": "execute_result",
          "data": {
            "text/plain": [
              "1.000000    3480\n",
              "0.666667    1326\n",
              "0.333333     877\n",
              "0.000000     315\n",
              "0.500000      81\n",
              "Name: question_fact_seeking, dtype: int64"
            ]
          },
          "metadata": {
            "tags": []
          },
          "execution_count": 188
        }
      ]
    },
    {
      "cell_type": "code",
      "metadata": {
        "id": "8ipDkloud4GL",
        "colab_type": "code",
        "outputId": "e4a1e5b7-8e1e-46ca-e425-103a955c9543",
        "colab": {}
      },
      "source": [
        "s=train.question_fact_seeking-train.question_conversational\n",
        "s.value_counts()"
      ],
      "execution_count": 0,
      "outputs": [
        {
          "output_type": "execute_result",
          "data": {
            "text/plain": [
              " 1.000000    3360\n",
              " 0.666667    1139\n",
              " 0.333333     895\n",
              " 0.000000     212\n",
              "-0.333333     137\n",
              " 0.666667      85\n",
              " 0.500000      78\n",
              "-1.000000      77\n",
              "-0.666667      51\n",
              " 0.333333      17\n",
              "-0.500000      11\n",
              "-0.333333       9\n",
              "-0.666667       8\n",
              "dtype: int64"
            ]
          },
          "metadata": {
            "tags": []
          },
          "execution_count": 196
        }
      ]
    },
    {
      "cell_type": "markdown",
      "metadata": {
        "id": "xyDXCWGFd4GO",
        "colab_type": "text"
      },
      "source": [
        "### if fact_seek > 0.3 conversationel = 0"
      ]
    },
    {
      "cell_type": "code",
      "metadata": {
        "id": "HWzpIqb_d4GP",
        "colab_type": "code",
        "outputId": "36243237-c30f-47a1-eeaf-187dc3aeaffc",
        "colab": {}
      },
      "source": [
        "sorted(C[labels[29]])"
      ],
      "execution_count": 0,
      "outputs": [
        {
          "output_type": "execute_result",
          "data": {
            "text/plain": [
              "[-0.1458796998253239,\n",
              " -0.0990826221990523,\n",
              " -0.08677293877357643,\n",
              " -0.05140028280146723,\n",
              " -0.048237836114686995,\n",
              " -0.038663819103422245,\n",
              " -0.01367158929486229,\n",
              " -0.0016280513462998503,\n",
              " 0.004371241667837843,\n",
              " 0.0051283650440729035,\n",
              " 0.011294083505209126,\n",
              " 0.012311315870976105,\n",
              " 0.015077194719634765,\n",
              " 0.021811778012561987,\n",
              " 0.031499799332175324,\n",
              " 0.04482670485869326,\n",
              " 0.04559068121913192,\n",
              " 0.047198097747652976,\n",
              " 0.07533556228455479,\n",
              " 0.08537586242824607,\n",
              " 0.11509411661624643,\n",
              " 0.11566936719038436,\n",
              " 0.12014414717107194,\n",
              " 0.14386026389984424,\n",
              " 0.18113517256784262,\n",
              " 0.18853076563793245,\n",
              " 0.22710217385332557,\n",
              " 0.2290638549908747,\n",
              " 0.23712737494672897,\n",
              " 1.0]"
            ]
          },
          "metadata": {
            "tags": []
          },
          "execution_count": 34
        }
      ]
    },
    {
      "cell_type": "code",
      "metadata": {
        "id": "VEFTphiQd4GS",
        "colab_type": "code",
        "outputId": "b1e8445b-0340-4451-e26a-3436bdeab88e",
        "colab": {}
      },
      "source": [
        "C[labels[29]]"
      ],
      "execution_count": 0,
      "outputs": [
        {
          "output_type": "execute_result",
          "data": {
            "text/plain": [
              "question_asker_intent_understanding      0.115094\n",
              "question_body_critical                   0.031500\n",
              "question_conversational                  0.047198\n",
              "question_expect_short_answer             0.044827\n",
              "question_fact_seeking                   -0.145880\n",
              "question_has_commonly_accepted_answer   -0.086773\n",
              "question_interestingness_others          0.075336\n",
              "question_interestingness_self            0.120144\n",
              "question_multi_intent                    0.005128\n",
              "question_not_really_a_question           0.011294\n",
              "question_opinion_seeking                 0.115669\n",
              "question_type_choice                     0.045591\n",
              "question_type_compare                    0.015077\n",
              "question_type_consequence                0.012311\n",
              "question_type_definition                 0.004371\n",
              "question_type_entity                    -0.001628\n",
              "question_type_instructions              -0.048238\n",
              "question_type_procedure                 -0.099083\n",
              "question_type_reason_explanation        -0.013672\n",
              "question_type_spelling                   0.021812\n",
              "question_well_written                    0.188531\n",
              "answer_helpful                           0.227102\n",
              "answer_level_of_information              0.143860\n",
              "answer_plausible                         0.181135\n",
              "answer_relevance                         0.237127\n",
              "answer_satisfaction                      0.229064\n",
              "answer_type_instructions                -0.038664\n",
              "answer_type_procedure                   -0.051400\n",
              "answer_type_reason_explanation           0.085376\n",
              "answer_well_written                      1.000000\n",
              "Name: answer_well_written, dtype: float64"
            ]
          },
          "metadata": {
            "tags": []
          },
          "execution_count": 35
        }
      ]
    },
    {
      "cell_type": "markdown",
      "metadata": {
        "id": "ljrG95lRd4GW",
        "colab_type": "text"
      },
      "source": [
        "### Correlation between:\n",
        "#### question_type_instructions & answer_type_instructions \n",
        "#### question_type_procedure & answer_type_procedure \n",
        "#### question_type_reason_explanation & answer_type_reason_explanation\n",
        "#### question_opinion_seaking & answer_opinion_seaking "
      ]
    },
    {
      "cell_type": "code",
      "metadata": {
        "id": "NWGNIUNkd4GY",
        "colab_type": "code",
        "outputId": "d7151cd2-f9dc-40eb-e3aa-a33984ae173e",
        "colab": {}
      },
      "source": [
        "train.length_qst_answer.value_counts()"
      ],
      "execution_count": 0,
      "outputs": [
        {
          "output_type": "execute_result",
          "data": {
            "text/plain": [
              "877     10\n",
              "988      9\n",
              "638      9\n",
              "718      8\n",
              "1140     8\n",
              "        ..\n",
              "2860     1\n",
              "1722     1\n",
              "4911     1\n",
              "1714     1\n",
              "4106     1\n",
              "Name: length_qst_answer, Length: 2762, dtype: int64"
            ]
          },
          "metadata": {
            "tags": []
          },
          "execution_count": 54
        }
      ]
    },
    {
      "cell_type": "code",
      "metadata": {
        "id": "BLjIRKJRd4Gg",
        "colab_type": "code",
        "outputId": "767b5cb7-1910-4ccc-c20e-5fc3c63d6776",
        "colab": {}
      },
      "source": [
        "df=pd.DataFrame()\n",
        "df['x']=new_data.question_expect_short_answer\n",
        "df['y']=train.length_qst_answer\n",
        "print(df.corr())\n",
        "df=pd.DataFrame()\n",
        "df['x']=new_data.question_multi_intent\n",
        "df['y']=train.length_qst_answer\n",
        "df.corr()"
      ],
      "execution_count": 0,
      "outputs": [
        {
          "output_type": "stream",
          "text": [
            "          x         y\n",
            "x  1.000000 -0.134095\n",
            "y -0.134095  1.000000\n"
          ],
          "name": "stdout"
        },
        {
          "output_type": "execute_result",
          "data": {
            "text/html": [
              "<div>\n",
              "<style scoped>\n",
              "    .dataframe tbody tr th:only-of-type {\n",
              "        vertical-align: middle;\n",
              "    }\n",
              "\n",
              "    .dataframe tbody tr th {\n",
              "        vertical-align: top;\n",
              "    }\n",
              "\n",
              "    .dataframe thead th {\n",
              "        text-align: right;\n",
              "    }\n",
              "</style>\n",
              "<table border=\"1\" class=\"dataframe\">\n",
              "  <thead>\n",
              "    <tr style=\"text-align: right;\">\n",
              "      <th></th>\n",
              "      <th>x</th>\n",
              "      <th>y</th>\n",
              "    </tr>\n",
              "  </thead>\n",
              "  <tbody>\n",
              "    <tr>\n",
              "      <th>x</th>\n",
              "      <td>1.00000</td>\n",
              "      <td>0.09326</td>\n",
              "    </tr>\n",
              "    <tr>\n",
              "      <th>y</th>\n",
              "      <td>0.09326</td>\n",
              "      <td>1.00000</td>\n",
              "    </tr>\n",
              "  </tbody>\n",
              "</table>\n",
              "</div>"
            ],
            "text/plain": [
              "         x        y\n",
              "x  1.00000  0.09326\n",
              "y  0.09326  1.00000"
            ]
          },
          "metadata": {
            "tags": []
          },
          "execution_count": 53
        }
      ]
    },
    {
      "cell_type": "code",
      "metadata": {
        "scrolled": true,
        "id": "YxKdDOTOd4Gk",
        "colab_type": "code",
        "outputId": "1bb31203-53c3-458e-da08-9011d5374fc2",
        "colab": {}
      },
      "source": [
        "train.describe()"
      ],
      "execution_count": 0,
      "outputs": [
        {
          "output_type": "execute_result",
          "data": {
            "text/html": [
              "<div>\n",
              "<style scoped>\n",
              "    .dataframe tbody tr th:only-of-type {\n",
              "        vertical-align: middle;\n",
              "    }\n",
              "\n",
              "    .dataframe tbody tr th {\n",
              "        vertical-align: top;\n",
              "    }\n",
              "\n",
              "    .dataframe thead th {\n",
              "        text-align: right;\n",
              "    }\n",
              "</style>\n",
              "<table border=\"1\" class=\"dataframe\">\n",
              "  <thead>\n",
              "    <tr style=\"text-align: right;\">\n",
              "      <th></th>\n",
              "      <th>qa_id</th>\n",
              "      <th>question_asker_intent_understanding</th>\n",
              "      <th>question_body_critical</th>\n",
              "      <th>question_conversational</th>\n",
              "      <th>question_expect_short_answer</th>\n",
              "      <th>question_fact_seeking</th>\n",
              "      <th>question_has_commonly_accepted_answer</th>\n",
              "      <th>question_interestingness_others</th>\n",
              "      <th>question_interestingness_self</th>\n",
              "      <th>question_multi_intent</th>\n",
              "      <th>...</th>\n",
              "      <th>answer_level_of_information</th>\n",
              "      <th>answer_plausible</th>\n",
              "      <th>answer_relevance</th>\n",
              "      <th>answer_satisfaction</th>\n",
              "      <th>answer_type_instructions</th>\n",
              "      <th>answer_type_procedure</th>\n",
              "      <th>answer_type_reason_explanation</th>\n",
              "      <th>answer_well_written</th>\n",
              "      <th>length_qst_answer</th>\n",
              "      <th>question_interestingness_self_updated</th>\n",
              "    </tr>\n",
              "  </thead>\n",
              "  <tbody>\n",
              "    <tr>\n",
              "      <th>count</th>\n",
              "      <td>6079.000000</td>\n",
              "      <td>6079.000000</td>\n",
              "      <td>6079.000000</td>\n",
              "      <td>6079.000000</td>\n",
              "      <td>6079.000000</td>\n",
              "      <td>6079.000000</td>\n",
              "      <td>6079.000000</td>\n",
              "      <td>6079.000000</td>\n",
              "      <td>6079.000000</td>\n",
              "      <td>6079.000000</td>\n",
              "      <td>...</td>\n",
              "      <td>6079.000000</td>\n",
              "      <td>6079.000000</td>\n",
              "      <td>6079.000000</td>\n",
              "      <td>6079.000000</td>\n",
              "      <td>6079.000000</td>\n",
              "      <td>6079.000000</td>\n",
              "      <td>6079.000000</td>\n",
              "      <td>6079.000000</td>\n",
              "      <td>6079.000000</td>\n",
              "      <td>6079.000000</td>\n",
              "    </tr>\n",
              "    <tr>\n",
              "      <th>mean</th>\n",
              "      <td>4829.665899</td>\n",
              "      <td>0.892663</td>\n",
              "      <td>0.595301</td>\n",
              "      <td>0.057301</td>\n",
              "      <td>0.698525</td>\n",
              "      <td>0.772633</td>\n",
              "      <td>0.793689</td>\n",
              "      <td>0.587478</td>\n",
              "      <td>0.507275</td>\n",
              "      <td>0.238745</td>\n",
              "      <td>...</td>\n",
              "      <td>0.654823</td>\n",
              "      <td>0.960054</td>\n",
              "      <td>0.968626</td>\n",
              "      <td>0.854680</td>\n",
              "      <td>0.479547</td>\n",
              "      <td>0.130641</td>\n",
              "      <td>0.502468</td>\n",
              "      <td>0.908254</td>\n",
              "      <td>1726.467511</td>\n",
              "      <td>-0.412522</td>\n",
              "    </tr>\n",
              "    <tr>\n",
              "      <th>std</th>\n",
              "      <td>2789.689555</td>\n",
              "      <td>0.132047</td>\n",
              "      <td>0.219470</td>\n",
              "      <td>0.182196</td>\n",
              "      <td>0.350938</td>\n",
              "      <td>0.303023</td>\n",
              "      <td>0.336622</td>\n",
              "      <td>0.135900</td>\n",
              "      <td>0.185987</td>\n",
              "      <td>0.335057</td>\n",
              "      <td>...</td>\n",
              "      <td>0.107666</td>\n",
              "      <td>0.086926</td>\n",
              "      <td>0.074631</td>\n",
              "      <td>0.130743</td>\n",
              "      <td>0.422921</td>\n",
              "      <td>0.225718</td>\n",
              "      <td>0.407097</td>\n",
              "      <td>0.100708</td>\n",
              "      <td>1535.617746</td>\n",
              "      <td>0.135900</td>\n",
              "    </tr>\n",
              "    <tr>\n",
              "      <th>min</th>\n",
              "      <td>0.000000</td>\n",
              "      <td>0.333333</td>\n",
              "      <td>0.333333</td>\n",
              "      <td>0.000000</td>\n",
              "      <td>0.000000</td>\n",
              "      <td>0.000000</td>\n",
              "      <td>0.000000</td>\n",
              "      <td>0.333333</td>\n",
              "      <td>0.333333</td>\n",
              "      <td>0.000000</td>\n",
              "      <td>...</td>\n",
              "      <td>0.333333</td>\n",
              "      <td>0.333333</td>\n",
              "      <td>0.333333</td>\n",
              "      <td>0.200000</td>\n",
              "      <td>0.000000</td>\n",
              "      <td>0.000000</td>\n",
              "      <td>0.000000</td>\n",
              "      <td>0.333333</td>\n",
              "      <td>89.000000</td>\n",
              "      <td>-0.666667</td>\n",
              "    </tr>\n",
              "    <tr>\n",
              "      <th>25%</th>\n",
              "      <td>2389.000000</td>\n",
              "      <td>0.777778</td>\n",
              "      <td>0.444444</td>\n",
              "      <td>0.000000</td>\n",
              "      <td>0.500000</td>\n",
              "      <td>0.666667</td>\n",
              "      <td>0.666667</td>\n",
              "      <td>0.444444</td>\n",
              "      <td>0.333333</td>\n",
              "      <td>0.000000</td>\n",
              "      <td>...</td>\n",
              "      <td>0.666667</td>\n",
              "      <td>1.000000</td>\n",
              "      <td>1.000000</td>\n",
              "      <td>0.800000</td>\n",
              "      <td>0.000000</td>\n",
              "      <td>0.000000</td>\n",
              "      <td>0.000000</td>\n",
              "      <td>0.888889</td>\n",
              "      <td>850.000000</td>\n",
              "      <td>-0.555556</td>\n",
              "    </tr>\n",
              "    <tr>\n",
              "      <th>50%</th>\n",
              "      <td>4847.000000</td>\n",
              "      <td>0.888889</td>\n",
              "      <td>0.555556</td>\n",
              "      <td>0.000000</td>\n",
              "      <td>0.666667</td>\n",
              "      <td>1.000000</td>\n",
              "      <td>1.000000</td>\n",
              "      <td>0.555556</td>\n",
              "      <td>0.444444</td>\n",
              "      <td>0.000000</td>\n",
              "      <td>...</td>\n",
              "      <td>0.666667</td>\n",
              "      <td>1.000000</td>\n",
              "      <td>1.000000</td>\n",
              "      <td>0.866667</td>\n",
              "      <td>0.500000</td>\n",
              "      <td>0.000000</td>\n",
              "      <td>0.500000</td>\n",
              "      <td>0.888889</td>\n",
              "      <td>1323.000000</td>\n",
              "      <td>-0.444444</td>\n",
              "    </tr>\n",
              "    <tr>\n",
              "      <th>75%</th>\n",
              "      <td>7222.000000</td>\n",
              "      <td>1.000000</td>\n",
              "      <td>0.777778</td>\n",
              "      <td>0.000000</td>\n",
              "      <td>1.000000</td>\n",
              "      <td>1.000000</td>\n",
              "      <td>1.000000</td>\n",
              "      <td>0.666667</td>\n",
              "      <td>0.666667</td>\n",
              "      <td>0.333333</td>\n",
              "      <td>...</td>\n",
              "      <td>0.666667</td>\n",
              "      <td>1.000000</td>\n",
              "      <td>1.000000</td>\n",
              "      <td>0.933333</td>\n",
              "      <td>1.000000</td>\n",
              "      <td>0.333333</td>\n",
              "      <td>1.000000</td>\n",
              "      <td>1.000000</td>\n",
              "      <td>2048.500000</td>\n",
              "      <td>-0.333333</td>\n",
              "    </tr>\n",
              "    <tr>\n",
              "      <th>max</th>\n",
              "      <td>9647.000000</td>\n",
              "      <td>1.000000</td>\n",
              "      <td>1.000000</td>\n",
              "      <td>1.000000</td>\n",
              "      <td>1.000000</td>\n",
              "      <td>1.000000</td>\n",
              "      <td>1.000000</td>\n",
              "      <td>1.000000</td>\n",
              "      <td>1.000000</td>\n",
              "      <td>1.000000</td>\n",
              "      <td>...</td>\n",
              "      <td>1.000000</td>\n",
              "      <td>1.000000</td>\n",
              "      <td>1.000000</td>\n",
              "      <td>1.000000</td>\n",
              "      <td>1.000000</td>\n",
              "      <td>1.000000</td>\n",
              "      <td>1.000000</td>\n",
              "      <td>1.000000</td>\n",
              "      <td>23200.000000</td>\n",
              "      <td>0.000000</td>\n",
              "    </tr>\n",
              "  </tbody>\n",
              "</table>\n",
              "<p>8 rows × 33 columns</p>\n",
              "</div>"
            ],
            "text/plain": [
              "             qa_id  question_asker_intent_understanding  \\\n",
              "count  6079.000000                          6079.000000   \n",
              "mean   4829.665899                             0.892663   \n",
              "std    2789.689555                             0.132047   \n",
              "min       0.000000                             0.333333   \n",
              "25%    2389.000000                             0.777778   \n",
              "50%    4847.000000                             0.888889   \n",
              "75%    7222.000000                             1.000000   \n",
              "max    9647.000000                             1.000000   \n",
              "\n",
              "       question_body_critical  question_conversational  \\\n",
              "count             6079.000000              6079.000000   \n",
              "mean                 0.595301                 0.057301   \n",
              "std                  0.219470                 0.182196   \n",
              "min                  0.333333                 0.000000   \n",
              "25%                  0.444444                 0.000000   \n",
              "50%                  0.555556                 0.000000   \n",
              "75%                  0.777778                 0.000000   \n",
              "max                  1.000000                 1.000000   \n",
              "\n",
              "       question_expect_short_answer  question_fact_seeking  \\\n",
              "count                   6079.000000            6079.000000   \n",
              "mean                       0.698525               0.772633   \n",
              "std                        0.350938               0.303023   \n",
              "min                        0.000000               0.000000   \n",
              "25%                        0.500000               0.666667   \n",
              "50%                        0.666667               1.000000   \n",
              "75%                        1.000000               1.000000   \n",
              "max                        1.000000               1.000000   \n",
              "\n",
              "       question_has_commonly_accepted_answer  question_interestingness_others  \\\n",
              "count                            6079.000000                      6079.000000   \n",
              "mean                                0.793689                         0.587478   \n",
              "std                                 0.336622                         0.135900   \n",
              "min                                 0.000000                         0.333333   \n",
              "25%                                 0.666667                         0.444444   \n",
              "50%                                 1.000000                         0.555556   \n",
              "75%                                 1.000000                         0.666667   \n",
              "max                                 1.000000                         1.000000   \n",
              "\n",
              "       question_interestingness_self  question_multi_intent  ...  \\\n",
              "count                    6079.000000            6079.000000  ...   \n",
              "mean                        0.507275               0.238745  ...   \n",
              "std                         0.185987               0.335057  ...   \n",
              "min                         0.333333               0.000000  ...   \n",
              "25%                         0.333333               0.000000  ...   \n",
              "50%                         0.444444               0.000000  ...   \n",
              "75%                         0.666667               0.333333  ...   \n",
              "max                         1.000000               1.000000  ...   \n",
              "\n",
              "       answer_level_of_information  answer_plausible  answer_relevance  \\\n",
              "count                  6079.000000       6079.000000       6079.000000   \n",
              "mean                      0.654823          0.960054          0.968626   \n",
              "std                       0.107666          0.086926          0.074631   \n",
              "min                       0.333333          0.333333          0.333333   \n",
              "25%                       0.666667          1.000000          1.000000   \n",
              "50%                       0.666667          1.000000          1.000000   \n",
              "75%                       0.666667          1.000000          1.000000   \n",
              "max                       1.000000          1.000000          1.000000   \n",
              "\n",
              "       answer_satisfaction  answer_type_instructions  answer_type_procedure  \\\n",
              "count          6079.000000               6079.000000            6079.000000   \n",
              "mean              0.854680                  0.479547               0.130641   \n",
              "std               0.130743                  0.422921               0.225718   \n",
              "min               0.200000                  0.000000               0.000000   \n",
              "25%               0.800000                  0.000000               0.000000   \n",
              "50%               0.866667                  0.500000               0.000000   \n",
              "75%               0.933333                  1.000000               0.333333   \n",
              "max               1.000000                  1.000000               1.000000   \n",
              "\n",
              "       answer_type_reason_explanation  answer_well_written  length_qst_answer  \\\n",
              "count                     6079.000000          6079.000000        6079.000000   \n",
              "mean                         0.502468             0.908254        1726.467511   \n",
              "std                          0.407097             0.100708        1535.617746   \n",
              "min                          0.000000             0.333333          89.000000   \n",
              "25%                          0.000000             0.888889         850.000000   \n",
              "50%                          0.500000             0.888889        1323.000000   \n",
              "75%                          1.000000             1.000000        2048.500000   \n",
              "max                          1.000000             1.000000       23200.000000   \n",
              "\n",
              "       question_interestingness_self_updated  \n",
              "count                            6079.000000  \n",
              "mean                               -0.412522  \n",
              "std                                 0.135900  \n",
              "min                                -0.666667  \n",
              "25%                                -0.555556  \n",
              "50%                                -0.444444  \n",
              "75%                                -0.333333  \n",
              "max                                 0.000000  \n",
              "\n",
              "[8 rows x 33 columns]"
            ]
          },
          "metadata": {
            "tags": []
          },
          "execution_count": 38
        }
      ]
    },
    {
      "cell_type": "markdown",
      "metadata": {
        "id": "V3bdpRb7d4Go",
        "colab_type": "text"
      },
      "source": [
        "### Remove columns with 75% of values = 0 :\n",
        "- qst_not_really_qst\n",
        "- qst_type_spelling\n",
        "- qst_type_entity\n",
        "- qst_type_def\n",
        "- qst_type_conseq"
      ]
    },
    {
      "cell_type": "markdown",
      "metadata": {
        "id": "LpnLcYE_d4Gp",
        "colab_type": "text"
      },
      "source": [
        "## Data distribution"
      ]
    },
    {
      "cell_type": "code",
      "metadata": {
        "id": "EVPzzGMNd4Gr",
        "colab_type": "code",
        "outputId": "cbba5d27-afaf-47e3-85a1-fa953ebf57c3",
        "colab": {}
      },
      "source": [
        "new_data.host=train.host.apply(lambda x: x.split(\".\")[-2])"
      ],
      "execution_count": 0,
      "outputs": [
        {
          "output_type": "stream",
          "text": [
            "/home/abir/anaconda3/envs/tf/lib/python3.7/site-packages/pandas/core/generic.py:5208: SettingWithCopyWarning: \n",
            "A value is trying to be set on a copy of a slice from a DataFrame.\n",
            "Try using .loc[row_indexer,col_indexer] = value instead\n",
            "\n",
            "See the caveats in the documentation: http://pandas.pydata.org/pandas-docs/stable/user_guide/indexing.html#returning-a-view-versus-a-copy\n",
            "  self[name] = value\n"
          ],
          "name": "stderr"
        }
      ]
    },
    {
      "cell_type": "code",
      "metadata": {
        "id": "fNq5-MsFd4Gu",
        "colab_type": "code",
        "outputId": "8838b9f4-d197-4d61-ef0f-f661fc8ee855",
        "colab": {}
      },
      "source": [
        "hosts=new_data.host[new_data.answer_helpful>0.8]\n",
        "\n",
        "\n",
        "#Most frequently occuring words\n",
        "def get_top_n_words(corpus, n=None):\n",
        "    vec = CountVectorizer(stop_words=stop_words).fit(corpus)\n",
        "    bag_of_words = vec.transform(corpus)\n",
        "    sum_words = bag_of_words.sum(axis=0) \n",
        "    words_freq = [(word, sum_words[0, idx]) for word, idx in      \n",
        "                   vec.vocabulary_.items()]\n",
        "    words_freq =sorted(words_freq, key = lambda x: x[1], \n",
        "                       reverse=True)\n",
        "    return words_freq[:n]\n",
        "\n",
        "\n",
        "#Convert most freq words to dataframe for plotting bar plot\n",
        "top_words = get_top_n_words(hosts, n=106)\n",
        "top_df = pd.DataFrame(top_words)\n",
        "top_df.columns=[\"Word\", \"Freq\"]\n",
        "#Barplot of most freq words\n",
        "sns.set(rc={'figure.figsize':(20,8)})\n",
        "g = sns.barplot(x=\"Word\", y=\"Freq\", data=top_df)\n",
        "g.set_xticklabels(g.get_xticklabels(), rotation=90)"
      ],
      "execution_count": 0,
      "outputs": [
        {
          "output_type": "execute_result",
          "data": {
            "text/plain": [
              "[Text(0, 0, 'stackexchange'),\n",
              " Text(0, 0, 'stackoverflow'),\n",
              " Text(0, 0, 'superuser'),\n",
              " Text(0, 0, 'serverfault'),\n",
              " Text(0, 0, 'askubuntu'),\n",
              " Text(0, 0, 'mathoverflow')]"
            ]
          },
          "metadata": {
            "tags": []
          },
          "execution_count": 58
        },
        {
          "output_type": "display_data",
          "data": {
            "image/png": "[encoded data removed]",
            "text/plain": [
              "<Figure size 1440x576 with 1 Axes>"
            ]
          },
          "metadata": {
            "tags": []
          }
        }
      ]
    },
    {
      "cell_type": "code",
      "metadata": {
        "id": "9MrnL71Sd4Gy",
        "colab_type": "code",
        "outputId": "a286cfbd-0734-4f51-a67b-9b62a5e9fc5e",
        "colab": {}
      },
      "source": [
        "hosts=new_data.host\n",
        "top_words = get_top_n_words(hosts, n=106)\n",
        "top_df = pd.DataFrame(top_words)\n",
        "top_df.columns=[\"Word\", \"Freq\"]\n",
        "\n",
        "sns.set(rc={'figure.figsize':(20,8)})\n",
        "g = sns.barplot(x=\"Word\", y=\"Freq\", data=top_df)\n",
        "g.set_xticklabels(g.get_xticklabels(), rotation=90)"
      ],
      "execution_count": 0,
      "outputs": [
        {
          "output_type": "execute_result",
          "data": {
            "text/plain": [
              "[Text(0, 0, 'stackexchange'),\n",
              " Text(0, 0, 'stackoverflow'),\n",
              " Text(0, 0, 'superuser'),\n",
              " Text(0, 0, 'serverfault'),\n",
              " Text(0, 0, 'askubuntu'),\n",
              " Text(0, 0, 'mathoverflow')]"
            ]
          },
          "metadata": {
            "tags": []
          },
          "execution_count": 59
        },
        {
          "output_type": "display_data",
          "data": {
            "image/png": "[encoded data removed]",
            "text/plain": [
              "<Figure size 1440x576 with 1 Axes>"
            ]
          },
          "metadata": {
            "tags": []
          }
        }
      ]
    },
    {
      "cell_type": "code",
      "metadata": {
        "id": "OY5bodfad4G2",
        "colab_type": "code",
        "outputId": "55bfe81f-9a28-40ee-c1e3-181f518b518a",
        "colab": {}
      },
      "source": [
        "hosts=new_data.answer[new_data.answer_helpful>0.5]\n",
        "top_words = get_top_n_words(hosts, n=106)\n",
        "top_df = pd.DataFrame(top_words)\n",
        "top_df.columns=[\"Word\", \"Freq\"]\n",
        "\n",
        "sns.set(rc={'figure.figsize':(20,8)})\n",
        "g = sns.barplot(x=\"Word\", y=\"Freq\", data=top_df)\n",
        "g.set_xticklabels(g.get_xticklabels(), rotation=90)"
      ],
      "execution_count": 0,
      "outputs": [
        {
          "output_type": "execute_result",
          "data": {
            "text/plain": [
              "[Text(0, 0, 'gt'),\n",
              " Text(0, 0, 'lt'),\n",
              " Text(0, 0, 'use'),\n",
              " Text(0, 0, 'one'),\n",
              " Text(0, 0, 'would'),\n",
              " Text(0, 0, 'like'),\n",
              " Text(0, 0, 'get'),\n",
              " Text(0, 0, 'also'),\n",
              " Text(0, 0, 'need'),\n",
              " Text(0, 0, 'amp'),\n",
              " Text(0, 0, 'using'),\n",
              " Text(0, 0, 'time'),\n",
              " Text(0, 0, 'want'),\n",
              " Text(0, 0, 'could'),\n",
              " Text(0, 0, 'make'),\n",
              " Text(0, 0, 'see'),\n",
              " Text(0, 0, 'way'),\n",
              " Text(0, 0, 'may'),\n",
              " Text(0, 0, 'first'),\n",
              " Text(0, 0, 'code'),\n",
              " Text(0, 0, 'new'),\n",
              " Text(0, 0, 'file'),\n",
              " Text(0, 0, 'example'),\n",
              " Text(0, 0, 'end'),\n",
              " Text(0, 0, 'used'),\n",
              " Text(0, 0, 'two'),\n",
              " Text(0, 0, 'work'),\n",
              " Text(0, 0, 'set'),\n",
              " Text(0, 0, 'good'),\n",
              " Text(0, 0, 'data'),\n",
              " Text(0, 0, 'function'),\n",
              " Text(0, 0, 'even'),\n",
              " Text(0, 0, 'might'),\n",
              " Text(0, 0, 'think'),\n",
              " Text(0, 0, 'name'),\n",
              " Text(0, 0, 'http'),\n",
              " Text(0, 0, 'something'),\n",
              " Text(0, 0, 'right'),\n",
              " Text(0, 0, 'much'),\n",
              " Text(0, 0, 'class'),\n",
              " Text(0, 0, 'different'),\n",
              " Text(0, 0, 'know'),\n",
              " Text(0, 0, 'case'),\n",
              " Text(0, 0, 'well'),\n",
              " Text(0, 0, 'try'),\n",
              " Text(0, 0, 'system'),\n",
              " Text(0, 0, 'value'),\n",
              " Text(0, 0, 'find'),\n",
              " Text(0, 0, 'add'),\n",
              " Text(0, 0, 'go'),\n",
              " Text(0, 0, 'since'),\n",
              " Text(0, 0, 'com'),\n",
              " Text(0, 0, 'question'),\n",
              " Text(0, 0, 'answer'),\n",
              " Text(0, 0, 'type'),\n",
              " Text(0, 0, 'problem'),\n",
              " Text(0, 0, 'return'),\n",
              " Text(0, 0, 'page'),\n",
              " Text(0, 0, 'look'),\n",
              " Text(0, 0, 'number'),\n",
              " Text(0, 0, 'user'),\n",
              " Text(0, 0, '10'),\n",
              " Text(0, 0, 'however'),\n",
              " Text(0, 0, 'many'),\n",
              " Text(0, 0, 'say'),\n",
              " Text(0, 0, 'another'),\n",
              " Text(0, 0, 'take'),\n",
              " Text(0, 0, 'line'),\n",
              " Text(0, 0, 'still'),\n",
              " Text(0, 0, 'people'),\n",
              " Text(0, 0, 'text'),\n",
              " Text(0, 0, 'point'),\n",
              " Text(0, 0, 'list'),\n",
              " Text(0, 0, 'really'),\n",
              " Text(0, 0, 'string'),\n",
              " Text(0, 0, 'id'),\n",
              " Text(0, 0, 'server'),\n",
              " Text(0, 0, 'create'),\n",
              " Text(0, 0, 'bit'),\n",
              " Text(0, 0, 'etc'),\n",
              " Text(0, 0, 'probably'),\n",
              " Text(0, 0, 'things'),\n",
              " Text(0, 0, 'change'),\n",
              " Text(0, 0, 'sure'),\n",
              " Text(0, 0, 'left'),\n",
              " Text(0, 0, 'better'),\n",
              " Text(0, 0, 'run'),\n",
              " Text(0, 0, 'without'),\n",
              " Text(0, 0, 'current'),\n",
              " Text(0, 0, 'frac'),\n",
              " Text(0, 0, 'key'),\n",
              " Text(0, 0, 'start'),\n",
              " Text(0, 0, 'check'),\n",
              " Text(0, 0, 'going'),\n",
              " Text(0, 0, 'nbsp'),\n",
              " Text(0, 0, 'back'),\n",
              " Text(0, 0, 'let'),\n",
              " Text(0, 0, 'means'),\n",
              " Text(0, 0, 'array'),\n",
              " Text(0, 0, 'actually'),\n",
              " Text(0, 0, 'image'),\n",
              " Text(0, 0, 'possible'),\n",
              " Text(0, 0, 'less'),\n",
              " Text(0, 0, 'note'),\n",
              " Text(0, 0, 'though'),\n",
              " Text(0, 0, 'help')]"
            ]
          },
          "metadata": {
            "tags": []
          },
          "execution_count": 60
        },
        {
          "output_type": "display_data",
          "data": {
            "image/png": "[encoded data removed]",
            "text/plain": [
              "<Figure size 1440x576 with 1 Axes>"
            ]
          },
          "metadata": {
            "tags": []
          }
        }
      ]
    },
    {
      "cell_type": "code",
      "metadata": {
        "id": "SXZkU_RRd4G5",
        "colab_type": "code",
        "outputId": "695924c2-d2b4-41c6-c46e-9c29087fc120",
        "colab": {}
      },
      "source": [
        "wordcloud = WordCloud(\n",
        "                          background_color='white',\n",
        "                          min_font_size=10,\n",
        "                          max_words=100,\n",
        "                          max_font_size=50, \n",
        "                          random_state=42\n",
        "                         )\n",
        "fig = plt.figure(1)\n",
        "plt.imshow(wordcloud.generate (str(hosts)))\n",
        "plt.axis('off')\n",
        "plt.show()"
      ],
      "execution_count": 0,
      "outputs": [
        {
          "output_type": "display_data",
          "data": {
            "image/png": "[encoded data removed]",
            "text/plain": [
              "<Figure size 1440x576 with 1 Axes>"
            ]
          },
          "metadata": {
            "tags": []
          }
        }
      ]
    },
    {
      "cell_type": "code",
      "metadata": {
        "id": "pcmYOfeZd4G7",
        "colab_type": "code",
        "outputId": "6d173500-0a77-4689-c580-f6c10f612252",
        "colab": {}
      },
      "source": [
        "hosts=new_data.question_body[new_data.answer_helpful>0.5]\n",
        "fig = plt.figure(1)\n",
        "plt.imshow(wordcloud.generate (str(hosts)))\n",
        "plt.axis('off')\n",
        "plt.show()"
      ],
      "execution_count": 0,
      "outputs": [
        {
          "output_type": "display_data",
          "data": {
            "image/png": "[encoded data removed]",
            "text/plain": [
              "<Figure size 1440x576 with 1 Axes>"
            ]
          },
          "metadata": {
            "tags": []
          }
        }
      ]
    },
    {
      "cell_type": "code",
      "metadata": {
        "id": "0kyic1lqd4G-",
        "colab_type": "code",
        "outputId": "75ac3ea1-9bb1-4bf4-a42f-5243597937a2",
        "colab": {}
      },
      "source": [
        "top_words = get_top_n_words(hosts, n=106)\n",
        "top_df = pd.DataFrame(top_words)\n",
        "top_df.columns=[\"Word\", \"Freq\"]\n",
        "\n",
        "sns.set(rc={'figure.figsize':(20,8)})\n",
        "g = sns.barplot(x=\"Word\", y=\"Freq\", data=top_df)\n",
        "g.set_xticklabels(g.get_xticklabels(), rotation=90)"
      ],
      "execution_count": 0,
      "outputs": [
        {
          "output_type": "execute_result",
          "data": {
            "text/plain": [
              "[Text(0, 0, 'gt'),\n",
              " Text(0, 0, 'lt'),\n",
              " Text(0, 0, 'would'),\n",
              " Text(0, 0, 'like'),\n",
              " Text(0, 0, 'one'),\n",
              " Text(0, 0, 'get'),\n",
              " Text(0, 0, 'using'),\n",
              " Text(0, 0, 'use'),\n",
              " Text(0, 0, 'new'),\n",
              " Text(0, 0, 'want'),\n",
              " Text(0, 0, 'way'),\n",
              " Text(0, 0, 'know'),\n",
              " Text(0, 0, 'code'),\n",
              " Text(0, 0, 'time'),\n",
              " Text(0, 0, 'class'),\n",
              " Text(0, 0, 'file'),\n",
              " Text(0, 0, 'question'),\n",
              " Text(0, 0, 'amp'),\n",
              " Text(0, 0, 'data'),\n",
              " Text(0, 0, 'need'),\n",
              " Text(0, 0, 'could'),\n",
              " Text(0, 0, 'id'),\n",
              " Text(0, 0, 'com'),\n",
              " Text(0, 0, 'http'),\n",
              " Text(0, 0, 'set'),\n",
              " Text(0, 0, 'work'),\n",
              " Text(0, 0, '10'),\n",
              " Text(0, 0, 'user'),\n",
              " Text(0, 0, 'also'),\n",
              " Text(0, 0, 'make'),\n",
              " Text(0, 0, 'name'),\n",
              " Text(0, 0, 'function'),\n",
              " Text(0, 0, 'example'),\n",
              " Text(0, 0, 'find'),\n",
              " Text(0, 0, 'two'),\n",
              " Text(0, 0, 'server'),\n",
              " Text(0, 0, 'error'),\n",
              " Text(0, 0, 'end'),\n",
              " Text(0, 0, 'problem'),\n",
              " Text(0, 0, 'string'),\n",
              " Text(0, 0, 'java'),\n",
              " Text(0, 0, 'text'),\n",
              " Text(0, 0, 'return'),\n",
              " Text(0, 0, 'first'),\n",
              " Text(0, 0, 'int'),\n",
              " Text(0, 0, 'right'),\n",
              " Text(0, 0, 'page'),\n",
              " Text(0, 0, 'something'),\n",
              " Text(0, 0, 'value'),\n",
              " Text(0, 0, 'public'),\n",
              " Text(0, 0, 'see'),\n",
              " Text(0, 0, 'following'),\n",
              " Text(0, 0, 'android'),\n",
              " Text(0, 0, 'list'),\n",
              " Text(0, 0, 'php'),\n",
              " Text(0, 0, 'add'),\n",
              " Text(0, 0, 'help'),\n",
              " Text(0, 0, 'system'),\n",
              " Text(0, 0, 'even'),\n",
              " Text(0, 0, 'used'),\n",
              " Text(0, 0, 'org'),\n",
              " Text(0, 0, 'trying'),\n",
              " Text(0, 0, 'type'),\n",
              " Text(0, 0, 'thanks'),\n",
              " Text(0, 0, 'however'),\n",
              " Text(0, 0, 'possible'),\n",
              " Text(0, 0, 'still'),\n",
              " Text(0, 0, 'think'),\n",
              " Text(0, 0, 'image'),\n",
              " Text(0, 0, 'number'),\n",
              " Text(0, 0, 'different'),\n",
              " Text(0, 0, 'another'),\n",
              " Text(0, 0, 'tried'),\n",
              " Text(0, 0, 'table'),\n",
              " Text(0, 0, 'since'),\n",
              " Text(0, 0, 'seems'),\n",
              " Text(0, 0, 'good'),\n",
              " Text(0, 0, 'create'),\n",
              " Text(0, 0, 'much'),\n",
              " Text(0, 0, 'else'),\n",
              " Text(0, 0, 'go'),\n",
              " Text(0, 0, 'left'),\n",
              " Text(0, 0, 'etc'),\n",
              " Text(0, 0, 'true'),\n",
              " Text(0, 0, 'edit'),\n",
              " Text(0, 0, 'title'),\n",
              " Text(0, 0, 'files'),\n",
              " Text(0, 0, 'script'),\n",
              " Text(0, 0, 'update'),\n",
              " Text(0, 0, 'line'),\n",
              " Text(0, 0, 'looking'),\n",
              " Text(0, 0, 'without'),\n",
              " Text(0, 0, 'run'),\n",
              " Text(0, 0, 'field'),\n",
              " Text(0, 0, 'able'),\n",
              " Text(0, 0, 'case'),\n",
              " Text(0, 0, 'html'),\n",
              " Text(0, 0, 'array'),\n",
              " Text(0, 0, 'app'),\n",
              " Text(0, 0, 'really'),\n",
              " Text(0, 0, 'found'),\n",
              " Text(0, 0, 'working'),\n",
              " Text(0, 0, 'change'),\n",
              " Text(0, 0, 'size'),\n",
              " Text(0, 0, 'version'),\n",
              " Text(0, 0, 'back')]"
            ]
          },
          "metadata": {
            "tags": []
          },
          "execution_count": 63
        },
        {
          "output_type": "display_data",
          "data": {
            "image/png": "[encoded data removed]",
            "text/plain": [
              "<Figure size 1440x576 with 1 Axes>"
            ]
          },
          "metadata": {
            "tags": []
          }
        }
      ]
    },
    {
      "cell_type": "markdown",
      "metadata": {
        "id": "iskmb0LBd4HA",
        "colab_type": "text"
      },
      "source": [
        "# Feature selection"
      ]
    },
    {
      "cell_type": "code",
      "metadata": {
        "id": "QXB7jhOld4HC",
        "colab_type": "code",
        "outputId": "e5351d6e-5fdf-46b2-ba0b-2f99b1aef575",
        "colab": {
          "base_uri": "https://localhost:8080/",
          "height": 50
        }
      },
      "source": [
        "new_labels=['question_asker_intent_understanding',\n",
        "       'question_body_critical',\n",
        "       'question_expect_short_answer', 'question_fact_seeking',\n",
        "       'question_has_commonly_accepted_answer',\n",
        "       'question_interestingness_others',\n",
        "       'question_multi_intent','question_type_choice',\n",
        "       'question_type_instructions', 'question_type_procedure',\n",
        "       'question_type_reason_explanation',\n",
        "       'question_well_written', 'answer_helpful',\n",
        "       'answer_well_written']\n",
        "len(new_labels)\n",
        "features=['question_title', 'question_body', 'answer', 'category', 'host']\n",
        "features.extend(new_labels)\n",
        "new_data=train[features]\n",
        "print(train.shape)\n",
        "print(new_data.shape)"
      ],
      "execution_count": 6,
      "outputs": [
        {
          "output_type": "stream",
          "text": [
            "(6079, 41)\n",
            "(6079, 19)\n"
          ],
          "name": "stdout"
        }
      ]
    },
    {
      "cell_type": "code",
      "metadata": {
        "id": "D93PRN0Kd4HH",
        "colab_type": "code",
        "colab": {
          "base_uri": "https://localhost:8080/",
          "height": 601
        },
        "outputId": "0c33dcc3-6c76-4f60-b694-2734b0803432"
      },
      "source": [
        "new_data.head()"
      ],
      "execution_count": 7,
      "outputs": [
        {
          "output_type": "execute_result",
          "data": {
            "text/html": [
              "<div>\n",
              "<style scoped>\n",
              "    .dataframe tbody tr th:only-of-type {\n",
              "        vertical-align: middle;\n",
              "    }\n",
              "\n",
              "    .dataframe tbody tr th {\n",
              "        vertical-align: top;\n",
              "    }\n",
              "\n",
              "    .dataframe thead th {\n",
              "        text-align: right;\n",
              "    }\n",
              "</style>\n",
              "<table border=\"1\" class=\"dataframe\">\n",
              "  <thead>\n",
              "    <tr style=\"text-align: right;\">\n",
              "      <th></th>\n",
              "      <th>question_title</th>\n",
              "      <th>question_body</th>\n",
              "      <th>answer</th>\n",
              "      <th>category</th>\n",
              "      <th>host</th>\n",
              "      <th>question_asker_intent_understanding</th>\n",
              "      <th>question_body_critical</th>\n",
              "      <th>question_expect_short_answer</th>\n",
              "      <th>question_fact_seeking</th>\n",
              "      <th>question_has_commonly_accepted_answer</th>\n",
              "      <th>question_interestingness_others</th>\n",
              "      <th>question_multi_intent</th>\n",
              "      <th>question_type_choice</th>\n",
              "      <th>question_type_instructions</th>\n",
              "      <th>question_type_procedure</th>\n",
              "      <th>question_type_reason_explanation</th>\n",
              "      <th>question_well_written</th>\n",
              "      <th>answer_helpful</th>\n",
              "      <th>answer_well_written</th>\n",
              "    </tr>\n",
              "  </thead>\n",
              "  <tbody>\n",
              "    <tr>\n",
              "      <th>0</th>\n",
              "      <td>What am I losing when using extension tubes in...</td>\n",
              "      <td>After playing around with macro photography on...</td>\n",
              "      <td>I just got extension tubes, so here's the skin...</td>\n",
              "      <td>LIFE_ARTS</td>\n",
              "      <td>photo.stackexchange.com</td>\n",
              "      <td>1.000000</td>\n",
              "      <td>0.333333</td>\n",
              "      <td>0.0</td>\n",
              "      <td>0.0</td>\n",
              "      <td>0.0</td>\n",
              "      <td>1.000000</td>\n",
              "      <td>0.000000</td>\n",
              "      <td>0.000000</td>\n",
              "      <td>1.0</td>\n",
              "      <td>0.000000</td>\n",
              "      <td>0.000000</td>\n",
              "      <td>1.000000</td>\n",
              "      <td>1.000000</td>\n",
              "      <td>1.000000</td>\n",
              "    </tr>\n",
              "    <tr>\n",
              "      <th>1</th>\n",
              "      <td>What is the distinction between a city and a s...</td>\n",
              "      <td>I am trying to understand what kinds of places...</td>\n",
              "      <td>It might be helpful to look into the definitio...</td>\n",
              "      <td>CULTURE</td>\n",
              "      <td>rpg.stackexchange.com</td>\n",
              "      <td>1.000000</td>\n",
              "      <td>1.000000</td>\n",
              "      <td>0.5</td>\n",
              "      <td>1.0</td>\n",
              "      <td>1.0</td>\n",
              "      <td>0.444444</td>\n",
              "      <td>0.666667</td>\n",
              "      <td>0.666667</td>\n",
              "      <td>0.0</td>\n",
              "      <td>0.000000</td>\n",
              "      <td>0.333333</td>\n",
              "      <td>0.888889</td>\n",
              "      <td>0.888889</td>\n",
              "      <td>0.888889</td>\n",
              "    </tr>\n",
              "    <tr>\n",
              "      <th>2</th>\n",
              "      <td>Maximum protusion length for through-hole comp...</td>\n",
              "      <td>I'm working on a PCB that has through-hole com...</td>\n",
              "      <td>Do you even need grooves?  We make several pro...</td>\n",
              "      <td>SCIENCE</td>\n",
              "      <td>electronics.stackexchange.com</td>\n",
              "      <td>0.888889</td>\n",
              "      <td>0.666667</td>\n",
              "      <td>1.0</td>\n",
              "      <td>1.0</td>\n",
              "      <td>1.0</td>\n",
              "      <td>0.666667</td>\n",
              "      <td>0.333333</td>\n",
              "      <td>0.000000</td>\n",
              "      <td>1.0</td>\n",
              "      <td>0.333333</td>\n",
              "      <td>0.333333</td>\n",
              "      <td>0.777778</td>\n",
              "      <td>0.777778</td>\n",
              "      <td>0.888889</td>\n",
              "    </tr>\n",
              "    <tr>\n",
              "      <th>3</th>\n",
              "      <td>Can an affidavit be used in Beit Din?</td>\n",
              "      <td>An affidavit, from what i understand, is basic...</td>\n",
              "      <td>Sending an \"affidavit\" it is a dispute between...</td>\n",
              "      <td>CULTURE</td>\n",
              "      <td>judaism.stackexchange.com</td>\n",
              "      <td>0.888889</td>\n",
              "      <td>0.666667</td>\n",
              "      <td>1.0</td>\n",
              "      <td>1.0</td>\n",
              "      <td>1.0</td>\n",
              "      <td>0.444444</td>\n",
              "      <td>0.000000</td>\n",
              "      <td>1.000000</td>\n",
              "      <td>0.0</td>\n",
              "      <td>0.000000</td>\n",
              "      <td>0.000000</td>\n",
              "      <td>0.888889</td>\n",
              "      <td>0.833333</td>\n",
              "      <td>1.000000</td>\n",
              "    </tr>\n",
              "    <tr>\n",
              "      <th>4</th>\n",
              "      <td>How do you make a binary image in Photoshop?</td>\n",
              "      <td>I am trying to make a binary image. I want mor...</td>\n",
              "      <td>Check out Image Trace in Adobe Illustrator. \\n...</td>\n",
              "      <td>LIFE_ARTS</td>\n",
              "      <td>graphicdesign.stackexchange.com</td>\n",
              "      <td>1.000000</td>\n",
              "      <td>0.666667</td>\n",
              "      <td>1.0</td>\n",
              "      <td>1.0</td>\n",
              "      <td>1.0</td>\n",
              "      <td>0.666667</td>\n",
              "      <td>0.000000</td>\n",
              "      <td>0.000000</td>\n",
              "      <td>1.0</td>\n",
              "      <td>0.000000</td>\n",
              "      <td>1.000000</td>\n",
              "      <td>1.000000</td>\n",
              "      <td>1.000000</td>\n",
              "      <td>1.000000</td>\n",
              "    </tr>\n",
              "  </tbody>\n",
              "</table>\n",
              "</div>"
            ],
            "text/plain": [
              "                                      question_title  ... answer_well_written\n",
              "0  What am I losing when using extension tubes in...  ...            1.000000\n",
              "1  What is the distinction between a city and a s...  ...            0.888889\n",
              "2  Maximum protusion length for through-hole comp...  ...            0.888889\n",
              "3              Can an affidavit be used in Beit Din?  ...            1.000000\n",
              "4       How do you make a binary image in Photoshop?  ...            1.000000\n",
              "\n",
              "[5 rows x 19 columns]"
            ]
          },
          "metadata": {
            "tags": []
          },
          "execution_count": 7
        }
      ]
    },
    {
      "cell_type": "markdown",
      "metadata": {
        "id": "mc7Ca_ptd4HQ",
        "colab_type": "text"
      },
      "source": [
        "# Data cleaning"
      ]
    },
    {
      "cell_type": "code",
      "metadata": {
        "id": "i76lVgRNd4HR",
        "colab_type": "code",
        "colab": {}
      },
      "source": [
        "#text processing function , will be used to clean the whole data \n",
        "def text_preprocessing(tClean):\n",
        "    #remove whitespaces\n",
        "    tClean=re.sub('\\n+| +',' ',tClean)\n",
        "    #remove punctuations, symbols and digits\n",
        "    tClean=re.sub('(\\\\d|\\\\W)+',' ',tClean)\n",
        "    #change to lowercase\n",
        "    tClean=tClean.lower()\n",
        "    #remove stopwords & lemmatizing\n",
        "    lNoStopWords=[]\n",
        "    lem=WordNetLemmatizer()\n",
        "    lNoStopWords=[lem.lemmatize(word,pos='v') for word in tClean.split() if word not in stop_words]\n",
        "    #remove alphabets\n",
        "    tClean=' '.join([word for word in lNoStopWords if len(word)>1])    \n",
        "    return tClean"
      ],
      "execution_count": 0,
      "outputs": []
    },
    {
      "cell_type": "code",
      "metadata": {
        "id": "0KP_pY8kfBm5",
        "colab_type": "code",
        "outputId": "38c78207-17c6-406e-cd8c-5787ff29e4e4",
        "colab": {
          "base_uri": "https://localhost:8080/",
          "height": 66
        }
      },
      "source": [
        "import nltk\n",
        "nltk.download('wordnet')"
      ],
      "execution_count": 9,
      "outputs": [
        {
          "output_type": "stream",
          "text": [
            "[nltk_data] Downloading package wordnet to /root/nltk_data...\n",
            "[nltk_data]   Unzipping corpora/wordnet.zip.\n"
          ],
          "name": "stdout"
        },
        {
          "output_type": "execute_result",
          "data": {
            "text/plain": [
              "True"
            ]
          },
          "metadata": {
            "tags": []
          },
          "execution_count": 9
        }
      ]
    },
    {
      "cell_type": "code",
      "metadata": {
        "id": "h0XAK7_jd4HV",
        "colab_type": "code",
        "outputId": "7c7f8080-e21f-4da8-957b-9edd1bd09122",
        "colab": {
          "base_uri": "https://localhost:8080/",
          "height": 310
        }
      },
      "source": [
        "new_data[\"question_body\"]=new_data.question_body.apply(lambda x: text_preprocessing(x))\n",
        "new_data[\"question_title\"]=new_data.question_title.apply(lambda x: text_preprocessing(x))\n",
        "new_data['answer']=new_data.answer.apply(lambda x: text_preprocessing(x))"
      ],
      "execution_count": 10,
      "outputs": [
        {
          "output_type": "stream",
          "text": [
            "/usr/local/lib/python3.6/dist-packages/ipykernel_launcher.py:1: SettingWithCopyWarning: \n",
            "A value is trying to be set on a copy of a slice from a DataFrame.\n",
            "Try using .loc[row_indexer,col_indexer] = value instead\n",
            "\n",
            "See the caveats in the documentation: http://pandas.pydata.org/pandas-docs/stable/user_guide/indexing.html#returning-a-view-versus-a-copy\n",
            "  \"\"\"Entry point for launching an IPython kernel.\n",
            "/usr/local/lib/python3.6/dist-packages/ipykernel_launcher.py:2: SettingWithCopyWarning: \n",
            "A value is trying to be set on a copy of a slice from a DataFrame.\n",
            "Try using .loc[row_indexer,col_indexer] = value instead\n",
            "\n",
            "See the caveats in the documentation: http://pandas.pydata.org/pandas-docs/stable/user_guide/indexing.html#returning-a-view-versus-a-copy\n",
            "  \n",
            "/usr/local/lib/python3.6/dist-packages/ipykernel_launcher.py:3: SettingWithCopyWarning: \n",
            "A value is trying to be set on a copy of a slice from a DataFrame.\n",
            "Try using .loc[row_indexer,col_indexer] = value instead\n",
            "\n",
            "See the caveats in the documentation: http://pandas.pydata.org/pandas-docs/stable/user_guide/indexing.html#returning-a-view-versus-a-copy\n",
            "  This is separate from the ipykernel package so we can avoid doing imports until\n"
          ],
          "name": "stderr"
        }
      ]
    },
    {
      "cell_type": "markdown",
      "metadata": {
        "id": "IcgRJW3ed4HZ",
        "colab_type": "text"
      },
      "source": [
        "# Keras embedding layer + NN"
      ]
    },
    {
      "cell_type": "code",
      "metadata": {
        "id": "9p6GxxaPfNrd",
        "colab_type": "code",
        "outputId": "40275b72-c864-428e-b463-00f1c83c115e",
        "colab": {
          "base_uri": "https://localhost:8080/",
          "height": 66
        }
      },
      "source": [
        "import nltk\n",
        "nltk.download('punkt')"
      ],
      "execution_count": 11,
      "outputs": [
        {
          "output_type": "stream",
          "text": [
            "[nltk_data] Downloading package punkt to /root/nltk_data...\n",
            "[nltk_data]   Unzipping tokenizers/punkt.zip.\n"
          ],
          "name": "stdout"
        },
        {
          "output_type": "execute_result",
          "data": {
            "text/plain": [
              "True"
            ]
          },
          "metadata": {
            "tags": []
          },
          "execution_count": 11
        }
      ]
    },
    {
      "cell_type": "code",
      "metadata": {
        "id": "xMbuNKIKd4Ha",
        "colab_type": "code",
        "outputId": "e8439162-f4e0-4e66-ed9d-ea473e7bd457",
        "colab": {
          "base_uri": "https://localhost:8080/",
          "height": 131
        }
      },
      "source": [
        "'''\n",
        "\n",
        "need to find no of unique words. this will be taken by the keras embedding layer as 'input_dim' parameter.\n",
        "\n",
        "'''\n",
        "new_data['post']=new_data.question_title+new_data.question_body+new_data.answer+new_data.host+new_data.category\n",
        "\n",
        "master=[]\n",
        "for e in new_data['post']:\n",
        "    master.append(e)\n",
        "\n",
        "words=[]\n",
        "for review in master:\n",
        "    tok=review.split()\n",
        "    for r in tok:\n",
        "        words.append(r)\n",
        "    \n",
        "    \n",
        "print(len(set(words)))\n",
        "  \n",
        "vocab_size=len(set(words))"
      ],
      "execution_count": 12,
      "outputs": [
        {
          "output_type": "stream",
          "text": [
            "/usr/local/lib/python3.6/dist-packages/ipykernel_launcher.py:6: SettingWithCopyWarning: \n",
            "A value is trying to be set on a copy of a slice from a DataFrame.\n",
            "Try using .loc[row_indexer,col_indexer] = value instead\n",
            "\n",
            "See the caveats in the documentation: http://pandas.pydata.org/pandas-docs/stable/user_guide/indexing.html#returning-a-view-versus-a-copy\n",
            "  \n"
          ],
          "name": "stderr"
        },
        {
          "output_type": "stream",
          "text": [
            "55825\n"
          ],
          "name": "stdout"
        }
      ]
    },
    {
      "cell_type": "code",
      "metadata": {
        "id": "jWP-_qrSd4Hh",
        "colab_type": "code",
        "outputId": "2b57dea0-d0cf-4751-ba77-54a808dbaba5",
        "colab": {
          "base_uri": "https://localhost:8080/",
          "height": 33
        }
      },
      "source": [
        "tokenizer=Tokenizer(num_words=vocab_size)   # see the other notebook named 'keras tokenizer'\n",
        "a=tokenizer.fit_on_texts(list(new_data.post))\n",
        "encoded_train=tokenizer.texts_to_sequences(list(new_data.post))\n",
        "\n",
        "maxi=-1\n",
        "for str in new_data.post :\n",
        "    tokens=nltk.word_tokenize(str)\n",
        "    if(maxi<len((tokens))):\n",
        "        maxi=len(tokens)\n",
        "    \n",
        "print(maxi)"
      ],
      "execution_count": 13,
      "outputs": [
        {
          "output_type": "stream",
          "text": [
            "2214\n"
          ],
          "name": "stdout"
        }
      ]
    },
    {
      "cell_type": "code",
      "metadata": {
        "id": "HBkv5cYqd4Hj",
        "colab_type": "code",
        "outputId": "f353bf44-3380-4760-8329-282e11d53c7b",
        "colab": {
          "base_uri": "https://localhost:8080/",
          "height": 33
        }
      },
      "source": [
        "max_doc_len=maxi\n",
        "pad_encoded_train=pad_sequences(encoded_train,max_doc_len)\n",
        "print(pad_encoded_train.shape)\n",
        "\n",
        "vocab_size=vocab_size\n",
        "embed_size=100\n",
        "max_doc_len=maxi"
      ],
      "execution_count": 14,
      "outputs": [
        {
          "output_type": "stream",
          "text": [
            "(6079, 2214)\n"
          ],
          "name": "stdout"
        }
      ]
    },
    {
      "cell_type": "code",
      "metadata": {
        "id": "sCuUt04Xy-WG",
        "colab_type": "code",
        "outputId": "87a95e26-5864-43f2-9262-5efa8b7c3c87",
        "colab": {
          "base_uri": "https://localhost:8080/",
          "height": 1000
        }
      },
      "source": [
        "labels=['question_asker_intent_understanding', 'question_body_critical',\n",
        "       'question_expect_short_answer', 'question_fact_seeking',\n",
        "       'question_has_commonly_accepted_answer',\n",
        "       'question_interestingness_others', 'question_multi_intent',\n",
        "       'question_type_choice', 'question_type_instructions',\n",
        "       'question_type_procedure', 'question_type_reason_explanation',\n",
        "       'question_well_written', 'answer_helpful', 'answer_well_written']\n",
        "\n",
        "batch_size=1024  \n",
        "epochs=2\n",
        "models=[]\n",
        "for i in range(len(labels)):\n",
        "  print(\"========================================= Fitting model\",labels[i],\"==================================================\")\n",
        "  word_input=Input(shape=(max_doc_len,),dtype='float64')  # shape of input. each document has 1416 element or words\n",
        "  word_embedding=Embedding(input_dim=vocab_size,output_dim=embed_size,input_length=max_doc_len)(word_input) # creating the embedding\n",
        "  word_vec=Flatten()(word_embedding) # flatten\n",
        "  word_vec=Dense(32,activation='relu')(word_vec)\n",
        "  word_vec=Dense(1,activation='sigmoid')(word_vec)  # binary classification\n",
        "  embed_model =Model([word_input],word_vec) # combining all into a Keras model\n",
        "\n",
        "  embed_model.compile(optimizer=keras.optimizers.Adam(lr=1e-3),loss='mean_absolute_error',metrics=['mae'])\n",
        "  embed_model.summary() \n",
        "  # splitting into train and val sets.\n",
        "  x_train,x_test,y_train,y_test=train_test_split(pad_encoded_train,new_data[labels[i]],test_size=0.20,random_state=42)\n",
        "  embed_model.fit(x_train,y_train,batch_size=batch_size,epochs=epochs,validation_data=(x_test,y_test)) # fitting on train and validating on val sets.\n",
        "  models.append(embed_model)"
      ],
      "execution_count": 16,
      "outputs": [
        {
          "output_type": "stream",
          "text": [
            "========================================= Fitting model question_asker_intent_understanding ==================================================\n",
            "Model: \"model_2\"\n",
            "_________________________________________________________________\n",
            "Layer (type)                 Output Shape              Param #   \n",
            "=================================================================\n",
            "input_2 (InputLayer)         (None, 2214)              0         \n",
            "_________________________________________________________________\n",
            "embedding_2 (Embedding)      (None, 2214, 100)         5582500   \n",
            "_________________________________________________________________\n",
            "flatten_2 (Flatten)          (None, 221400)            0         \n",
            "_________________________________________________________________\n",
            "dense_3 (Dense)              (None, 32)                7084832   \n",
            "_________________________________________________________________\n",
            "dense_4 (Dense)              (None, 1)                 33        \n",
            "=================================================================\n",
            "Total params: 12,667,365\n",
            "Trainable params: 12,667,365\n",
            "Non-trainable params: 0\n",
            "_________________________________________________________________\n",
            "WARNING:tensorflow:From /usr/local/lib/python3.6/dist-packages/keras/backend/tensorflow_backend.py:1033: The name tf.assign_add is deprecated. Please use tf.compat.v1.assign_add instead.\n",
            "\n",
            "WARNING:tensorflow:From /usr/local/lib/python3.6/dist-packages/keras/backend/tensorflow_backend.py:1020: The name tf.assign is deprecated. Please use tf.compat.v1.assign instead.\n",
            "\n",
            "WARNING:tensorflow:From /usr/local/lib/python3.6/dist-packages/keras/backend/tensorflow_backend.py:3005: The name tf.Session is deprecated. Please use tf.compat.v1.Session instead.\n",
            "\n",
            "Train on 4863 samples, validate on 1216 samples\n",
            "Epoch 1/2\n",
            "WARNING:tensorflow:From /usr/local/lib/python3.6/dist-packages/keras/backend/tensorflow_backend.py:190: The name tf.get_default_session is deprecated. Please use tf.compat.v1.get_default_session instead.\n",
            "\n",
            "WARNING:tensorflow:From /usr/local/lib/python3.6/dist-packages/keras/backend/tensorflow_backend.py:197: The name tf.ConfigProto is deprecated. Please use tf.compat.v1.ConfigProto instead.\n",
            "\n",
            "WARNING:tensorflow:From /usr/local/lib/python3.6/dist-packages/keras/backend/tensorflow_backend.py:207: The name tf.global_variables is deprecated. Please use tf.compat.v1.global_variables instead.\n",
            "\n",
            "WARNING:tensorflow:From /usr/local/lib/python3.6/dist-packages/keras/backend/tensorflow_backend.py:216: The name tf.is_variable_initialized is deprecated. Please use tf.compat.v1.is_variable_initialized instead.\n",
            "\n",
            "WARNING:tensorflow:From /usr/local/lib/python3.6/dist-packages/keras/backend/tensorflow_backend.py:223: The name tf.variables_initializer is deprecated. Please use tf.compat.v1.variables_initializer instead.\n",
            "\n",
            "4863/4863 [==============================] - 11s 2ms/step - loss: 0.1692 - mean_absolute_error: 0.1692 - val_loss: 0.1066 - val_mean_absolute_error: 0.1066\n",
            "Epoch 2/2\n",
            "4863/4863 [==============================] - 8s 2ms/step - loss: 0.1076 - mean_absolute_error: 0.1076 - val_loss: 0.1066 - val_mean_absolute_error: 0.1066\n",
            "========================================= Fitting model question_body_critical ==================================================\n",
            "Model: \"model_3\"\n",
            "_________________________________________________________________\n",
            "Layer (type)                 Output Shape              Param #   \n",
            "=================================================================\n",
            "input_3 (InputLayer)         (None, 2214)              0         \n",
            "_________________________________________________________________\n",
            "embedding_3 (Embedding)      (None, 2214, 100)         5582500   \n",
            "_________________________________________________________________\n",
            "flatten_3 (Flatten)          (None, 221400)            0         \n",
            "_________________________________________________________________\n",
            "dense_5 (Dense)              (None, 32)                7084832   \n",
            "_________________________________________________________________\n",
            "dense_6 (Dense)              (None, 1)                 33        \n",
            "=================================================================\n",
            "Total params: 12,667,365\n",
            "Trainable params: 12,667,365\n",
            "Non-trainable params: 0\n",
            "_________________________________________________________________\n",
            "Train on 4863 samples, validate on 1216 samples\n",
            "Epoch 1/2\n",
            "4863/4863 [==============================] - 9s 2ms/step - loss: 0.3379 - mean_absolute_error: 0.3379 - val_loss: 0.3955 - val_mean_absolute_error: 0.3955\n",
            "Epoch 2/2\n",
            "4863/4863 [==============================] - 8s 2ms/step - loss: 0.4070 - mean_absolute_error: 0.4070 - val_loss: 0.3956 - val_mean_absolute_error: 0.3956\n",
            "========================================= Fitting model question_expect_short_answer ==================================================\n",
            "Model: \"model_4\"\n",
            "_________________________________________________________________\n",
            "Layer (type)                 Output Shape              Param #   \n",
            "=================================================================\n",
            "input_4 (InputLayer)         (None, 2214)              0         \n",
            "_________________________________________________________________\n",
            "embedding_4 (Embedding)      (None, 2214, 100)         5582500   \n",
            "_________________________________________________________________\n",
            "flatten_4 (Flatten)          (None, 221400)            0         \n",
            "_________________________________________________________________\n",
            "dense_7 (Dense)              (None, 32)                7084832   \n",
            "_________________________________________________________________\n",
            "dense_8 (Dense)              (None, 1)                 33        \n",
            "=================================================================\n",
            "Total params: 12,667,365\n",
            "Trainable params: 12,667,365\n",
            "Non-trainable params: 0\n",
            "_________________________________________________________________\n",
            "Train on 4863 samples, validate on 1216 samples\n",
            "Epoch 1/2\n",
            "4863/4863 [==============================] - 9s 2ms/step - loss: 0.3181 - mean_absolute_error: 0.3181 - val_loss: 0.2932 - val_mean_absolute_error: 0.2932\n",
            "Epoch 2/2\n",
            "4863/4863 [==============================] - 8s 2ms/step - loss: 0.3034 - mean_absolute_error: 0.3034 - val_loss: 0.2932 - val_mean_absolute_error: 0.2932\n",
            "========================================= Fitting model question_fact_seeking ==================================================\n",
            "Model: \"model_5\"\n",
            "_________________________________________________________________\n",
            "Layer (type)                 Output Shape              Param #   \n",
            "=================================================================\n",
            "input_5 (InputLayer)         (None, 2214)              0         \n",
            "_________________________________________________________________\n",
            "embedding_5 (Embedding)      (None, 2214, 100)         5582500   \n",
            "_________________________________________________________________\n",
            "flatten_5 (Flatten)          (None, 221400)            0         \n",
            "_________________________________________________________________\n",
            "dense_9 (Dense)              (None, 32)                7084832   \n",
            "_________________________________________________________________\n",
            "dense_10 (Dense)             (None, 1)                 33        \n",
            "=================================================================\n",
            "Total params: 12,667,365\n",
            "Trainable params: 12,667,365\n",
            "Non-trainable params: 0\n",
            "_________________________________________________________________\n",
            "Train on 4863 samples, validate on 1216 samples\n",
            "Epoch 1/2\n",
            "4863/4863 [==============================] - 9s 2ms/step - loss: 0.2567 - mean_absolute_error: 0.2567 - val_loss: 0.2197 - val_mean_absolute_error: 0.2197\n",
            "Epoch 2/2\n",
            "4863/4863 [==============================] - 8s 2ms/step - loss: 0.2293 - mean_absolute_error: 0.2293 - val_loss: 0.2197 - val_mean_absolute_error: 0.2197\n",
            "========================================= Fitting model question_has_commonly_accepted_answer ==================================================\n",
            "Model: \"model_6\"\n",
            "_________________________________________________________________\n",
            "Layer (type)                 Output Shape              Param #   \n",
            "=================================================================\n",
            "input_6 (InputLayer)         (None, 2214)              0         \n",
            "_________________________________________________________________\n",
            "embedding_6 (Embedding)      (None, 2214, 100)         5582500   \n",
            "_________________________________________________________________\n",
            "flatten_6 (Flatten)          (None, 221400)            0         \n",
            "_________________________________________________________________\n",
            "dense_11 (Dense)             (None, 32)                7084832   \n",
            "_________________________________________________________________\n",
            "dense_12 (Dense)             (None, 1)                 33        \n",
            "=================================================================\n",
            "Total params: 12,667,365\n",
            "Trainable params: 12,667,365\n",
            "Non-trainable params: 0\n",
            "_________________________________________________________________\n",
            "Train on 4863 samples, validate on 1216 samples\n",
            "Epoch 1/2\n",
            "4863/4863 [==============================] - 9s 2ms/step - loss: 0.2528 - mean_absolute_error: 0.2528 - val_loss: 0.2034 - val_mean_absolute_error: 0.2034\n",
            "Epoch 2/2\n",
            "4863/4863 [==============================] - 8s 2ms/step - loss: 0.2070 - mean_absolute_error: 0.2070 - val_loss: 0.2034 - val_mean_absolute_error: 0.2034\n",
            "========================================= Fitting model question_interestingness_others ==================================================\n",
            "Model: \"model_7\"\n",
            "_________________________________________________________________\n",
            "Layer (type)                 Output Shape              Param #   \n",
            "=================================================================\n",
            "input_7 (InputLayer)         (None, 2214)              0         \n",
            "_________________________________________________________________\n",
            "embedding_7 (Embedding)      (None, 2214, 100)         5582500   \n",
            "_________________________________________________________________\n",
            "flatten_7 (Flatten)          (None, 221400)            0         \n",
            "_________________________________________________________________\n",
            "dense_13 (Dense)             (None, 32)                7084832   \n",
            "_________________________________________________________________\n",
            "dense_14 (Dense)             (None, 1)                 33        \n",
            "=================================================================\n",
            "Total params: 12,667,365\n",
            "Trainable params: 12,667,365\n",
            "Non-trainable params: 0\n",
            "_________________________________________________________________\n",
            "Train on 4863 samples, validate on 1216 samples\n",
            "Epoch 1/2\n",
            "4863/4863 [==============================] - 9s 2ms/step - loss: 0.3525 - mean_absolute_error: 0.3525 - val_loss: 0.4108 - val_mean_absolute_error: 0.4108\n",
            "Epoch 2/2\n",
            "4863/4863 [==============================] - 8s 2ms/step - loss: 0.4129 - mean_absolute_error: 0.4129 - val_loss: 0.4108 - val_mean_absolute_error: 0.4108\n",
            "========================================= Fitting model question_multi_intent ==================================================\n",
            "Model: \"model_8\"\n",
            "_________________________________________________________________\n",
            "Layer (type)                 Output Shape              Param #   \n",
            "=================================================================\n",
            "input_8 (InputLayer)         (None, 2214)              0         \n",
            "_________________________________________________________________\n",
            "embedding_8 (Embedding)      (None, 2214, 100)         5582500   \n",
            "_________________________________________________________________\n",
            "flatten_8 (Flatten)          (None, 221400)            0         \n",
            "_________________________________________________________________\n",
            "dense_15 (Dense)             (None, 32)                7084832   \n",
            "_________________________________________________________________\n",
            "dense_16 (Dense)             (None, 1)                 33        \n",
            "=================================================================\n",
            "Total params: 12,667,365\n",
            "Trainable params: 12,667,365\n",
            "Non-trainable params: 0\n",
            "_________________________________________________________________\n",
            "Train on 4863 samples, validate on 1216 samples\n",
            "Epoch 1/2\n",
            "4863/4863 [==============================] - 9s 2ms/step - loss: 0.2747 - mean_absolute_error: 0.2747 - val_loss: 0.2482 - val_mean_absolute_error: 0.2482\n",
            "Epoch 2/2\n",
            "4863/4863 [==============================] - 8s 2ms/step - loss: 0.2364 - mean_absolute_error: 0.2364 - val_loss: 0.2482 - val_mean_absolute_error: 0.2482\n",
            "========================================= Fitting model question_type_choice ==================================================\n",
            "Model: \"model_9\"\n",
            "_________________________________________________________________\n",
            "Layer (type)                 Output Shape              Param #   \n",
            "=================================================================\n",
            "input_9 (InputLayer)         (None, 2214)              0         \n",
            "_________________________________________________________________\n",
            "embedding_9 (Embedding)      (None, 2214, 100)         5582500   \n",
            "_________________________________________________________________\n",
            "flatten_9 (Flatten)          (None, 221400)            0         \n",
            "_________________________________________________________________\n",
            "dense_17 (Dense)             (None, 32)                7084832   \n",
            "_________________________________________________________________\n",
            "dense_18 (Dense)             (None, 1)                 33        \n",
            "=================================================================\n",
            "Total params: 12,667,365\n",
            "Trainable params: 12,667,365\n",
            "Non-trainable params: 0\n",
            "_________________________________________________________________\n",
            "Train on 4863 samples, validate on 1216 samples\n",
            "Epoch 1/2\n",
            "4863/4863 [==============================] - 9s 2ms/step - loss: 0.3075 - mean_absolute_error: 0.3075 - val_loss: 0.2815 - val_mean_absolute_error: 0.2815\n",
            "Epoch 2/2\n",
            "4863/4863 [==============================] - 8s 2ms/step - loss: 0.2858 - mean_absolute_error: 0.2858 - val_loss: 0.2815 - val_mean_absolute_error: 0.2815\n",
            "========================================= Fitting model question_type_instructions ==================================================\n",
            "Model: \"model_10\"\n",
            "_________________________________________________________________\n",
            "Layer (type)                 Output Shape              Param #   \n",
            "=================================================================\n",
            "input_10 (InputLayer)        (None, 2214)              0         \n",
            "_________________________________________________________________\n",
            "embedding_10 (Embedding)     (None, 2214, 100)         5582500   \n",
            "_________________________________________________________________\n",
            "flatten_10 (Flatten)         (None, 221400)            0         \n",
            "_________________________________________________________________\n",
            "dense_19 (Dense)             (None, 32)                7084832   \n",
            "_________________________________________________________________\n",
            "dense_20 (Dense)             (None, 1)                 33        \n",
            "=================================================================\n",
            "Total params: 12,667,365\n",
            "Trainable params: 12,667,365\n",
            "Non-trainable params: 0\n",
            "_________________________________________________________________\n",
            "Train on 4863 samples, validate on 1216 samples\n",
            "Epoch 1/2\n",
            "4863/4863 [==============================] - 9s 2ms/step - loss: 0.4742 - mean_absolute_error: 0.4742 - val_loss: 0.5123 - val_mean_absolute_error: 0.5123\n",
            "Epoch 2/2\n",
            "4863/4863 [==============================] - 8s 2ms/step - loss: 0.4997 - mean_absolute_error: 0.4997 - val_loss: 0.5102 - val_mean_absolute_error: 0.5102\n",
            "========================================= Fitting model question_type_procedure ==================================================\n",
            "Model: \"model_11\"\n",
            "_________________________________________________________________\n",
            "Layer (type)                 Output Shape              Param #   \n",
            "=================================================================\n",
            "input_11 (InputLayer)        (None, 2214)              0         \n",
            "_________________________________________________________________\n",
            "embedding_11 (Embedding)     (None, 2214, 100)         5582500   \n",
            "_________________________________________________________________\n",
            "flatten_11 (Flatten)         (None, 221400)            0         \n",
            "_________________________________________________________________\n",
            "dense_21 (Dense)             (None, 32)                7084832   \n",
            "_________________________________________________________________\n",
            "dense_22 (Dense)             (None, 1)                 33        \n",
            "=================================================================\n",
            "Total params: 12,667,365\n",
            "Trainable params: 12,667,365\n",
            "Non-trainable params: 0\n",
            "_________________________________________________________________\n",
            "Train on 4863 samples, validate on 1216 samples\n",
            "Epoch 1/2\n",
            "4863/4863 [==============================] - 9s 2ms/step - loss: 0.2164 - mean_absolute_error: 0.2164 - val_loss: 0.1635 - val_mean_absolute_error: 0.1635\n",
            "Epoch 2/2\n",
            "4863/4863 [==============================] - 8s 2ms/step - loss: 0.1666 - mean_absolute_error: 0.1666 - val_loss: 0.1635 - val_mean_absolute_error: 0.1635\n",
            "========================================= Fitting model question_type_reason_explanation ==================================================\n",
            "Model: \"model_12\"\n",
            "_________________________________________________________________\n",
            "Layer (type)                 Output Shape              Param #   \n",
            "=================================================================\n",
            "input_12 (InputLayer)        (None, 2214)              0         \n",
            "_________________________________________________________________\n",
            "embedding_12 (Embedding)     (None, 2214, 100)         5582500   \n",
            "_________________________________________________________________\n",
            "flatten_12 (Flatten)         (None, 221400)            0         \n",
            "_________________________________________________________________\n",
            "dense_23 (Dense)             (None, 32)                7084832   \n",
            "_________________________________________________________________\n",
            "dense_24 (Dense)             (None, 1)                 33        \n",
            "=================================================================\n",
            "Total params: 12,667,365\n",
            "Trainable params: 12,667,365\n",
            "Non-trainable params: 0\n",
            "_________________________________________________________________\n",
            "Train on 4863 samples, validate on 1216 samples\n",
            "Epoch 1/2\n",
            "4863/4863 [==============================] - 9s 2ms/step - loss: 0.3780 - mean_absolute_error: 0.3780 - val_loss: 0.3846 - val_mean_absolute_error: 0.3846\n",
            "Epoch 2/2\n",
            "4863/4863 [==============================] - 8s 2ms/step - loss: 0.3869 - mean_absolute_error: 0.3869 - val_loss: 0.3846 - val_mean_absolute_error: 0.3846\n",
            "========================================= Fitting model question_well_written ==================================================\n",
            "Model: \"model_13\"\n",
            "_________________________________________________________________\n",
            "Layer (type)                 Output Shape              Param #   \n",
            "=================================================================\n",
            "input_13 (InputLayer)        (None, 2214)              0         \n",
            "_________________________________________________________________\n",
            "embedding_13 (Embedding)     (None, 2214, 100)         5582500   \n",
            "_________________________________________________________________\n",
            "flatten_13 (Flatten)         (None, 221400)            0         \n",
            "_________________________________________________________________\n",
            "dense_25 (Dense)             (None, 32)                7084832   \n",
            "_________________________________________________________________\n",
            "dense_26 (Dense)             (None, 1)                 33        \n",
            "=================================================================\n",
            "Total params: 12,667,365\n",
            "Trainable params: 12,667,365\n",
            "Non-trainable params: 0\n",
            "_________________________________________________________________\n",
            "Train on 4863 samples, validate on 1216 samples\n",
            "Epoch 1/2\n",
            "4863/4863 [==============================] - 10s 2ms/step - loss: 0.2254 - mean_absolute_error: 0.2254 - val_loss: 0.1970 - val_mean_absolute_error: 0.1970\n",
            "Epoch 2/2\n",
            "4863/4863 [==============================] - 8s 2ms/step - loss: 0.2008 - mean_absolute_error: 0.2008 - val_loss: 0.1970 - val_mean_absolute_error: 0.1970\n",
            "========================================= Fitting model answer_helpful ==================================================\n",
            "Model: \"model_14\"\n",
            "_________________________________________________________________\n",
            "Layer (type)                 Output Shape              Param #   \n",
            "=================================================================\n",
            "input_14 (InputLayer)        (None, 2214)              0         \n",
            "_________________________________________________________________\n",
            "embedding_14 (Embedding)     (None, 2214, 100)         5582500   \n",
            "_________________________________________________________________\n",
            "flatten_14 (Flatten)         (None, 221400)            0         \n",
            "_________________________________________________________________\n",
            "dense_27 (Dense)             (None, 32)                7084832   \n",
            "_________________________________________________________________\n",
            "dense_28 (Dense)             (None, 1)                 33        \n",
            "=================================================================\n",
            "Total params: 12,667,365\n",
            "Trainable params: 12,667,365\n",
            "Non-trainable params: 0\n",
            "_________________________________________________________________\n",
            "Train on 4863 samples, validate on 1216 samples\n",
            "Epoch 1/2\n",
            "4863/4863 [==============================] - 9s 2ms/step - loss: 0.1495 - mean_absolute_error: 0.1495 - val_loss: 0.0775 - val_mean_absolute_error: 0.0775\n",
            "Epoch 2/2\n",
            "4863/4863 [==============================] - 8s 2ms/step - loss: 0.0739 - mean_absolute_error: 0.0739 - val_loss: 0.0775 - val_mean_absolute_error: 0.0775\n",
            "========================================= Fitting model answer_well_written ==================================================\n",
            "Model: \"model_15\"\n",
            "_________________________________________________________________\n",
            "Layer (type)                 Output Shape              Param #   \n",
            "=================================================================\n",
            "input_15 (InputLayer)        (None, 2214)              0         \n",
            "_________________________________________________________________\n",
            "embedding_15 (Embedding)     (None, 2214, 100)         5582500   \n",
            "_________________________________________________________________\n",
            "flatten_15 (Flatten)         (None, 221400)            0         \n",
            "_________________________________________________________________\n",
            "dense_29 (Dense)             (None, 32)                7084832   \n",
            "_________________________________________________________________\n",
            "dense_30 (Dense)             (None, 1)                 33        \n",
            "=================================================================\n",
            "Total params: 12,667,365\n",
            "Trainable params: 12,667,365\n",
            "Non-trainable params: 0\n",
            "_________________________________________________________________\n",
            "Train on 4863 samples, validate on 1216 samples\n",
            "Epoch 1/2\n",
            "4863/4863 [==============================] - 9s 2ms/step - loss: 0.1612 - mean_absolute_error: 0.1612 - val_loss: 0.0917 - val_mean_absolute_error: 0.0917\n",
            "Epoch 2/2\n",
            "4863/4863 [==============================] - 8s 2ms/step - loss: 0.0917 - mean_absolute_error: 0.0917 - val_loss: 0.0917 - val_mean_absolute_error: 0.0917\n"
          ],
          "name": "stdout"
        }
      ]
    },
    {
      "cell_type": "markdown",
      "metadata": {
        "id": "2ygdj5AxP499",
        "colab_type": "text"
      },
      "source": [
        "# Make predictions"
      ]
    },
    {
      "cell_type": "code",
      "metadata": {
        "id": "9inYGm7Qy-eR",
        "colab_type": "code",
        "colab": {}
      },
      "source": [
        "x_t,x_te,y_t,y_t=train_test_split(new_data[['question_title','question_body','answer']],new_data[-2nnnnnnnnnnnnnnnnnnnnnnnnnnnnnnnnnnnnnnnnnnnnnnnnnnnnn],test_size=0.20,random_state=42)\n",
        "import numpy as np\n",
        "\n",
        "df=pd.DataFrame()\n",
        "df[['question_title','question_body','answer']]=x_te\n",
        "j=0\n",
        "for i in labels:\n",
        "  df[i]=models[j].predict(x_test)\n",
        "  j+=1\n"
      ],
      "execution_count": 0,
      "outputs": []
    },
    {
      "cell_type": "code",
      "metadata": {
        "id": "Wai66_2my-NZ",
        "colab_type": "code",
        "outputId": "1b451d2c-b71c-4e82-8237-b29c0c728c31",
        "colab": {
          "base_uri": "https://localhost:8080/",
          "height": 1000
        }
      },
      "source": [
        "df.head(100)"
      ],
      "execution_count": 19,
      "outputs": [
        {
          "output_type": "execute_result",
          "data": {
            "text/html": [
              "<div>\n",
              "<style scoped>\n",
              "    .dataframe tbody tr th:only-of-type {\n",
              "        vertical-align: middle;\n",
              "    }\n",
              "\n",
              "    .dataframe tbody tr th {\n",
              "        vertical-align: top;\n",
              "    }\n",
              "\n",
              "    .dataframe thead th {\n",
              "        text-align: right;\n",
              "    }\n",
              "</style>\n",
              "<table border=\"1\" class=\"dataframe\">\n",
              "  <thead>\n",
              "    <tr style=\"text-align: right;\">\n",
              "      <th></th>\n",
              "      <th>question_title</th>\n",
              "      <th>question_body</th>\n",
              "      <th>answer</th>\n",
              "      <th>question_asker_intent_understanding</th>\n",
              "      <th>question_body_critical</th>\n",
              "      <th>question_expect_short_answer</th>\n",
              "      <th>question_fact_seeking</th>\n",
              "      <th>question_has_commonly_accepted_answer</th>\n",
              "      <th>question_interestingness_others</th>\n",
              "      <th>question_multi_intent</th>\n",
              "      <th>question_type_choice</th>\n",
              "      <th>question_type_instructions</th>\n",
              "      <th>question_type_procedure</th>\n",
              "      <th>question_type_reason_explanation</th>\n",
              "      <th>question_well_written</th>\n",
              "      <th>answer_helpful</th>\n",
              "      <th>answer_well_written</th>\n",
              "    </tr>\n",
              "  </thead>\n",
              "  <tbody>\n",
              "    <tr>\n",
              "      <th>3320</th>\n",
              "      <td>simple particle filter algorithm sequential mo...</td>\n",
              "      <td>interest simple algorithm particles filter giv...</td>\n",
              "      <td>sentence mean generate x_t distribution x_t al...</td>\n",
              "      <td>1.0</td>\n",
              "      <td>1.0</td>\n",
              "      <td>1.0</td>\n",
              "      <td>1.0</td>\n",
              "      <td>1.0</td>\n",
              "      <td>1.0</td>\n",
              "      <td>0.0</td>\n",
              "      <td>0.0</td>\n",
              "      <td>0.994217</td>\n",
              "      <td>0.0</td>\n",
              "      <td>0.0</td>\n",
              "      <td>1.0</td>\n",
              "      <td>1.0</td>\n",
              "      <td>1.0</td>\n",
              "    </tr>\n",
              "    <tr>\n",
              "      <th>296</th>\n",
              "      <td>benefit own physical book</td>\n",
              "      <td>see question update amp th edition book get th...</td>\n",
              "      <td>ebook find comfortable linear read physical bo...</td>\n",
              "      <td>1.0</td>\n",
              "      <td>1.0</td>\n",
              "      <td>1.0</td>\n",
              "      <td>1.0</td>\n",
              "      <td>1.0</td>\n",
              "      <td>1.0</td>\n",
              "      <td>0.0</td>\n",
              "      <td>0.0</td>\n",
              "      <td>0.992452</td>\n",
              "      <td>0.0</td>\n",
              "      <td>0.0</td>\n",
              "      <td>1.0</td>\n",
              "      <td>1.0</td>\n",
              "      <td>1.0</td>\n",
              "    </tr>\n",
              "    <tr>\n",
              "      <th>346</th>\n",
              "      <td>fish spot surround rock etc actually increase ...</td>\n",
              "      <td>talk fisher guy fish hut tell best place fish ...</td>\n",
              "      <td>yes fish small tile water wall shore rock thre...</td>\n",
              "      <td>1.0</td>\n",
              "      <td>1.0</td>\n",
              "      <td>1.0</td>\n",
              "      <td>1.0</td>\n",
              "      <td>1.0</td>\n",
              "      <td>1.0</td>\n",
              "      <td>0.0</td>\n",
              "      <td>0.0</td>\n",
              "      <td>0.994201</td>\n",
              "      <td>0.0</td>\n",
              "      <td>0.0</td>\n",
              "      <td>1.0</td>\n",
              "      <td>1.0</td>\n",
              "      <td>1.0</td>\n",
              "    </tr>\n",
              "    <tr>\n",
              "      <th>5001</th>\n",
              "      <td>latex command double lower index summation</td>\n",
              "      <td>would like know latex command include double l...</td>\n",
              "      <td>try use substack usepackage amsmath begin equa...</td>\n",
              "      <td>1.0</td>\n",
              "      <td>1.0</td>\n",
              "      <td>1.0</td>\n",
              "      <td>1.0</td>\n",
              "      <td>1.0</td>\n",
              "      <td>1.0</td>\n",
              "      <td>0.0</td>\n",
              "      <td>0.0</td>\n",
              "      <td>0.994182</td>\n",
              "      <td>0.0</td>\n",
              "      <td>0.0</td>\n",
              "      <td>1.0</td>\n",
              "      <td>1.0</td>\n",
              "      <td>1.0</td>\n",
              "    </tr>\n",
              "    <tr>\n",
              "      <th>544</th>\n",
              "      <td>tell macmini stop boot windows macbook pro</td>\n",
              "      <td>need able control mac mini without screen thin...</td>\n",
              "      <td>system store boot choice nvram might reset pow...</td>\n",
              "      <td>1.0</td>\n",
              "      <td>1.0</td>\n",
              "      <td>1.0</td>\n",
              "      <td>1.0</td>\n",
              "      <td>1.0</td>\n",
              "      <td>1.0</td>\n",
              "      <td>0.0</td>\n",
              "      <td>0.0</td>\n",
              "      <td>0.994220</td>\n",
              "      <td>0.0</td>\n",
              "      <td>0.0</td>\n",
              "      <td>1.0</td>\n",
              "      <td>1.0</td>\n",
              "      <td>1.0</td>\n",
              "    </tr>\n",
              "    <tr>\n",
              "      <th>...</th>\n",
              "      <td>...</td>\n",
              "      <td>...</td>\n",
              "      <td>...</td>\n",
              "      <td>...</td>\n",
              "      <td>...</td>\n",
              "      <td>...</td>\n",
              "      <td>...</td>\n",
              "      <td>...</td>\n",
              "      <td>...</td>\n",
              "      <td>...</td>\n",
              "      <td>...</td>\n",
              "      <td>...</td>\n",
              "      <td>...</td>\n",
              "      <td>...</td>\n",
              "      <td>...</td>\n",
              "      <td>...</td>\n",
              "      <td>...</td>\n",
              "    </tr>\n",
              "    <tr>\n",
              "      <th>565</th>\n",
              "      <td>spring security access controller method base ...</td>\n",
              "      <td>configure spring security across controllers w...</td>\n",
              "      <td>one approach use handler interceptor general i...</td>\n",
              "      <td>1.0</td>\n",
              "      <td>1.0</td>\n",
              "      <td>1.0</td>\n",
              "      <td>1.0</td>\n",
              "      <td>1.0</td>\n",
              "      <td>1.0</td>\n",
              "      <td>0.0</td>\n",
              "      <td>0.0</td>\n",
              "      <td>0.994028</td>\n",
              "      <td>0.0</td>\n",
              "      <td>0.0</td>\n",
              "      <td>1.0</td>\n",
              "      <td>1.0</td>\n",
              "      <td>1.0</td>\n",
              "    </tr>\n",
              "    <tr>\n",
              "      <th>4764</th>\n",
              "      <td>exactly difference selberg class set artin fun...</td>\n",
              "      <td>question title read answer another question ar...</td>\n",
              "      <td>far know precise conjecture ask elements selbe...</td>\n",
              "      <td>1.0</td>\n",
              "      <td>1.0</td>\n",
              "      <td>1.0</td>\n",
              "      <td>1.0</td>\n",
              "      <td>1.0</td>\n",
              "      <td>1.0</td>\n",
              "      <td>0.0</td>\n",
              "      <td>0.0</td>\n",
              "      <td>0.994258</td>\n",
              "      <td>0.0</td>\n",
              "      <td>0.0</td>\n",
              "      <td>1.0</td>\n",
              "      <td>1.0</td>\n",
              "      <td>1.0</td>\n",
              "    </tr>\n",
              "    <tr>\n",
              "      <th>5933</th>\n",
              "      <td>inspector mean hot neutral separate</td>\n",
              "      <td>inspection report house inspector say hot neut...</td>\n",
              "      <td>guess image sub panel case inspector correct n...</td>\n",
              "      <td>1.0</td>\n",
              "      <td>1.0</td>\n",
              "      <td>1.0</td>\n",
              "      <td>1.0</td>\n",
              "      <td>1.0</td>\n",
              "      <td>1.0</td>\n",
              "      <td>0.0</td>\n",
              "      <td>0.0</td>\n",
              "      <td>0.992234</td>\n",
              "      <td>0.0</td>\n",
              "      <td>0.0</td>\n",
              "      <td>1.0</td>\n",
              "      <td>1.0</td>\n",
              "      <td>1.0</td>\n",
              "    </tr>\n",
              "    <tr>\n",
              "      <th>800</th>\n",
              "      <td>cv complete</td>\n",
              "      <td>career fill cv list complete could someone tell</td>\n",
              "      <td>intentional indicate go extra mile beyond mini...</td>\n",
              "      <td>1.0</td>\n",
              "      <td>1.0</td>\n",
              "      <td>1.0</td>\n",
              "      <td>1.0</td>\n",
              "      <td>1.0</td>\n",
              "      <td>1.0</td>\n",
              "      <td>0.0</td>\n",
              "      <td>0.0</td>\n",
              "      <td>0.993865</td>\n",
              "      <td>0.0</td>\n",
              "      <td>0.0</td>\n",
              "      <td>1.0</td>\n",
              "      <td>1.0</td>\n",
              "      <td>1.0</td>\n",
              "    </tr>\n",
              "    <tr>\n",
              "      <th>4215</th>\n",
              "      <td>ayanah shel torah festivals mitzvot</td>\n",
              "      <td>title page ayanah shel torah say series cover ...</td>\n",
              "      <td>seemingly hebrew english wikipedia article say...</td>\n",
              "      <td>1.0</td>\n",
              "      <td>1.0</td>\n",
              "      <td>1.0</td>\n",
              "      <td>1.0</td>\n",
              "      <td>1.0</td>\n",
              "      <td>1.0</td>\n",
              "      <td>0.0</td>\n",
              "      <td>0.0</td>\n",
              "      <td>0.993962</td>\n",
              "      <td>0.0</td>\n",
              "      <td>0.0</td>\n",
              "      <td>1.0</td>\n",
              "      <td>1.0</td>\n",
              "      <td>1.0</td>\n",
              "    </tr>\n",
              "  </tbody>\n",
              "</table>\n",
              "<p>100 rows × 17 columns</p>\n",
              "</div>"
            ],
            "text/plain": [
              "                                         question_title  ... answer_well_written\n",
              "3320  simple particle filter algorithm sequential mo...  ...                 1.0\n",
              "296                           benefit own physical book  ...                 1.0\n",
              "346   fish spot surround rock etc actually increase ...  ...                 1.0\n",
              "5001         latex command double lower index summation  ...                 1.0\n",
              "544          tell macmini stop boot windows macbook pro  ...                 1.0\n",
              "...                                                 ...  ...                 ...\n",
              "565   spring security access controller method base ...  ...                 1.0\n",
              "4764  exactly difference selberg class set artin fun...  ...                 1.0\n",
              "5933                inspector mean hot neutral separate  ...                 1.0\n",
              "800                                         cv complete  ...                 1.0\n",
              "4215                ayanah shel torah festivals mitzvot  ...                 1.0\n",
              "\n",
              "[100 rows x 17 columns]"
            ]
          },
          "metadata": {
            "tags": []
          },
          "execution_count": 19
        }
      ]
    },
    {
      "cell_type": "code",
      "metadata": {
        "id": "ZnKYKnoeBJxA",
        "colab_type": "code",
        "outputId": "029547f6-671d-4b0a-aa04-ae63cb78923a",
        "colab": {
          "base_uri": "https://localhost:8080/",
          "height": 115
        }
      },
      "source": [
        "df.question_body_critical.value_counts()"
      ],
      "execution_count": 24,
      "outputs": [
        {
          "output_type": "execute_result",
          "data": {
            "text/plain": [
              "1.000000    1212\n",
              "1.000000       1\n",
              "0.999973       1\n",
              "0.996834       1\n",
              "1.000000       1\n",
              "Name: question_body_critical, dtype: int64"
            ]
          },
          "metadata": {
            "tags": []
          },
          "execution_count": 24
        }
      ]
    },
    {
      "cell_type": "markdown",
      "metadata": {
        "id": "6oWkgl5pQzmo",
        "colab_type": "text"
      },
      "source": [
        "\n",
        "## Our neural network is not doing well on our small dataset. He is always predicting the majority class(in the training data).\n",
        "\n"
      ]
    },
    {
      "cell_type": "code",
      "metadata": {
        "id": "8EMCm9rxYeVn",
        "colab_type": "code",
        "colab": {}
      },
      "source": [
        ""
      ],
      "execution_count": 0,
      "outputs": []
    }
  ]
}